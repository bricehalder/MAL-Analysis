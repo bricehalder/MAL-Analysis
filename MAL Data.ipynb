{
 "cells": [
  {
   "cell_type": "code",
   "execution_count": 46,
   "metadata": {},
   "outputs": [],
   "source": [
    "import pickle"
   ]
  },
  {
   "cell_type": "markdown",
   "metadata": {},
   "source": [
    "### Definitions"
   ]
  },
  {
   "cell_type": "code",
   "execution_count": 111,
   "metadata": {},
   "outputs": [],
   "source": [
    "def aggregate(p, c, a, m):\n",
    "        pagg = p * 0.61\n",
    "        cagg = c * 0.13\n",
    "        aagg = a * 0.13\n",
    "        magg = m * 0.13\n",
    "        agg = pagg + cagg + aagg + magg\n",
    "        return agg\n",
    "    \n",
    "class Show:\n",
    "    \"\"\"A class to resemble a show listing on MAL\"\"\"\n",
    "    \n",
    "    class color:\n",
    "       PURPLE = '\\033[95m'\n",
    "       CYAN = '\\033[96m'\n",
    "       DARKCYAN = '\\033[36m'\n",
    "       BLUE = '\\033[94m'\n",
    "       GREEN = '\\033[92m'\n",
    "       YELLOW = '\\033[93m'\n",
    "       RED = '\\033[91m'\n",
    "       BOLD = '\\033[1m'\n",
    "       UNDERLINE = '\\033[4m'\n",
    "       END = '\\033[0m'\n",
    "    \n",
    "    def __init__(self, name=\"Default Name\", p=0, c=0, a=0, m=0):\n",
    "        self.name = name\n",
    "        self.plot = round(p,2)\n",
    "        self.chars = round(c,2)\n",
    "        self.art = round(a,2)\n",
    "        self.music = round(m,2)\n",
    "        self.overall = round(aggregate(p,c,a,m),2)\n",
    "        \n",
    "    def __str__(self):\n",
    "        return color.BOLD + self.name + color.END + '\\nPlot:\\t\\t' + str(self.plot) + '\\nCharacters:\\t' \\\n",
    "            + str(self.chars) + '\\nArt:\\t\\t' + str(self.art) + '\\nMusic:\\t\\t' + str(self.music) \\\n",
    "            + '\\nOverall:\\t' + str(self.overall)\n",
    "    \n",
    "    def __repr__(self):\n",
    "        return \"Show<\" + self.name + \">\"\n",
    "    \n",
    "    def __eq__(self, other):\n",
    "        return self.name == other.name\n",
    "    \n",
    "    def __ne__(self, other):\n",
    "        return self.name != other.name\n",
    "    "
   ]
  },
  {
   "cell_type": "code",
   "execution_count": 112,
   "metadata": {},
   "outputs": [],
   "source": [
    "def create_show():\n",
    "    name = input(\"Name of Show: \").strip()\n",
    "    plot = float(input(\"Story: \"))\n",
    "    characters = float(input(\"Characters: \"))\n",
    "    art = float(input(\"Visuals: \"))\n",
    "    music = float(input(\"Sound: \"))\n",
    "    return Show(name, plot, characters, art, music)"
   ]
  },
  {
   "cell_type": "markdown",
   "metadata": {},
   "source": [
    "### Loading\n"
   ]
  },
  {
   "cell_type": "code",
   "execution_count": 44,
   "metadata": {},
   "outputs": [],
   "source": [
    "with open('./Anime Data/Anime.pkl', 'rb') as f:\n",
    "    completed = pickle.load(f)"
   ]
  },
  {
   "cell_type": "markdown",
   "metadata": {},
   "source": [
    "### Make Entries"
   ]
  },
  {
   "cell_type": "code",
   "execution_count": 114,
   "metadata": {},
   "outputs": [
    {
     "name": "stdout",
     "output_type": "stream",
     "text": [
      "Name of Show: Hunter x Hunter (2011)\n",
      "Story: 10\n",
      "Characters: 10\n",
      "Visuals: 8\n",
      "Sound: 8.5\n",
      "\n",
      "\u001b[1mHunter x Hunter (2011)\u001b[0m\n",
      "Plot:\t\t10.0\n",
      "Characters:\t10.0\n",
      "Art:\t\t8.0\n",
      "Music:\t\t8.5\n",
      "Overall:\t9.54\n",
      "\n",
      "Want to add to list? (y/n): y\n"
     ]
    }
   ],
   "source": [
    "x = create_show()\n",
    "print('\\n' + str(x))\n",
    "\n",
    "ans = input(\"\\nWant to add to list? (y/n): \")\n",
    "if ans == \"yes\" or ans == \"y\":\n",
    "    completed[x.name] = x"
   ]
  },
  {
   "cell_type": "code",
   "execution_count": 115,
   "metadata": {},
   "outputs": [
    {
     "data": {
      "text/plain": [
       "dict_keys(['Hunter x Hunter (2011)', 'Fate/Zero 2nd Season', 'Kimi no Na wa.', 'Boku no Hero Academia 2nd Season', 'Tengen Toppa Gurren Lagann'])"
      ]
     },
     "execution_count": 115,
     "metadata": {},
     "output_type": "execute_result"
    }
   ],
   "source": [
    "completed.keys()"
   ]
  },
  {
   "cell_type": "markdown",
   "metadata": {},
   "source": [
    "### Saving\n"
   ]
  },
  {
   "cell_type": "code",
   "execution_count": 77,
   "metadata": {},
   "outputs": [],
   "source": [
    "with open('./Anime Data/Anime.pkl', 'wb') as f:\n",
    "    pickle.dump(completed, f)"
   ]
  },
  {
   "cell_type": "markdown",
   "metadata": {},
   "source": [
    "### Analysis?"
   ]
  },
  {
   "cell_type": "code",
   "execution_count": 116,
   "metadata": {},
   "outputs": [
    {
     "name": "stdout",
     "output_type": "stream",
     "text": [
      "9.54\tHunter x Hunter (2011)\n",
      "9.87\tFate/Zero 2nd Season\n",
      "9.13\tKimi no Na wa.\n",
      "9.61\tBoku no Hero Academia 2nd Season\n",
      "9.48\tTengen Toppa Gurren Lagann\n"
     ]
    }
   ],
   "source": [
    "for x in completed.values():\n",
    "    print(str(x.overall) + '\\t' + x.name)"
   ]
  },
  {
   "cell_type": "code",
   "execution_count": 117,
   "metadata": {},
   "outputs": [
    {
     "name": "stdout",
     "output_type": "stream",
     "text": [
      "Hunter x Hunter (2011)\n",
      "Fate/Zero 2nd Season\n",
      "Kimi no Na wa.\n",
      "Boku no Hero Academia 2nd Season\n",
      "Tengen Toppa Gurren Lagann\n"
     ]
    }
   ],
   "source": [
    "for x in completed.keys():\n",
    "    print(x)"
   ]
  },
  {
   "cell_type": "code",
   "execution_count": 118,
   "metadata": {},
   "outputs": [
    {
     "data": {
      "text/plain": [
       "{'Boku no Hero Academia 2nd Season': Show<Boku no Hero Academia 2nd Season>,\n",
       " 'Fate/Zero 2nd Season': Show<Fate/Zero 2nd Season>,\n",
       " 'Hunter x Hunter (2011)': Show<Hunter x Hunter (2011)>,\n",
       " 'Kimi no Na wa.': Show<Kimi no Na wa.>,\n",
       " 'Tengen Toppa Gurren Lagann': Show<Tengen Toppa Gurren Lagann>}"
      ]
     },
     "execution_count": 118,
     "metadata": {},
     "output_type": "execute_result"
    }
   ],
   "source": [
    "completed"
   ]
  },
  {
   "cell_type": "code",
   "execution_count": null,
   "metadata": {},
   "outputs": [],
   "source": []
  }
 ],
 "metadata": {
  "kernelspec": {
   "display_name": "Python 3",
   "language": "python",
   "name": "python3"
  },
  "language_info": {
   "codemirror_mode": {
    "name": "ipython",
    "version": 3
   },
   "file_extension": ".py",
   "mimetype": "text/x-python",
   "name": "python",
   "nbconvert_exporter": "python",
   "pygments_lexer": "ipython3",
   "version": "3.6.5"
  }
 },
 "nbformat": 4,
 "nbformat_minor": 2
}
