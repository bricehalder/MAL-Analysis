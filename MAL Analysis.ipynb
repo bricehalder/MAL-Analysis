{
 "cells": [
  {
   "cell_type": "code",
   "execution_count": 1,
   "metadata": {},
   "outputs": [],
   "source": [
    "import pickle\n",
    "from colors import color\n",
    "from operator import itemgetter, attrgetter\n",
    "from show import *"
   ]
  },
  {
   "cell_type": "markdown",
   "metadata": {},
   "source": [
    "### Loading\n"
   ]
  },
  {
   "cell_type": "code",
   "execution_count": 2,
   "metadata": {},
   "outputs": [],
   "source": [
    "with open('./show_data/completed_shows.pkl', 'rb') as f:\n",
    "    completed = pickle.load(f)"
   ]
  },
  {
   "cell_type": "markdown",
   "metadata": {},
   "source": [
    "### Basic Listing"
   ]
  },
  {
   "cell_type": "code",
   "execution_count": 22,
   "metadata": {
    "scrolled": false
   },
   "outputs": [
    {
     "name": "stdout",
     "output_type": "stream",
     "text": [
      "\u001b[1mNAME                          PLOT        CHARACTERS  VISUALS     SOUND       ENJOYMENT   \u001b[91mRAW         \u001b[94mOVERALL     \u001b[0m\n",
      "Hunter x Hunter (2011)        10          10          8.5         8           9.5         \u001b[91m9.4         \u001b[94m10          \u001b[0m\n",
      "Fullmetal Alchemist: B...     10          8.5         9           8           8.5         \u001b[91m9.24        \u001b[94m10          \u001b[0m\n",
      "Fate/Zero 2nd Season          9.5         8.5         10          8           9           \u001b[91m9.16        \u001b[94m10          \u001b[0m\n",
      "Boku no Hero Academia ...     9           10          8           8.5         10          \u001b[91m8.92        \u001b[94m9           \u001b[0m\n",
      "One Punch Man                 8.5         8.5         9.5         10          9           \u001b[91m8.93        \u001b[94m9           \u001b[0m\n",
      "Shingeki no Kyojin            8.5         7.5         9           10          9           \u001b[91m8.67        \u001b[94m9           \u001b[0m\n",
      "Fate/Zero                     9           8           9           8           8           \u001b[91m8.66        \u001b[94m9           \u001b[0m\n",
      "Kimi no Na wa.                8           7           10          10          8.5         \u001b[91m8.51        \u001b[94m9           \u001b[0m\n",
      "Tengen Toppa Gurren La...     8           8           9           8.5         10          \u001b[91m8.26        \u001b[94m9           \u001b[0m\n",
      "Boku no Hero Academia         8           9           8           8.5         9.5         \u001b[91m8.26        \u001b[94m9           \u001b[0m\n",
      "Fate/stay night: Unlim...     8           7.5         10          8.5         8.5         \u001b[91m8.34        \u001b[94m9           \u001b[0m\n",
      "Ao no Exorcist                8           8           8.5         9           8.5         \u001b[91m8.26        \u001b[94m9           \u001b[0m\n",
      "Shigatsu wa Kimi no Uso       8           7           9           10          7.5         \u001b[91m8.34        \u001b[94m9           \u001b[0m\n",
      "Kill la Kill                  8           8           8           9           9           \u001b[91m8.17        \u001b[94m9           \u001b[0m\n",
      "Shingeki no Kyojin Sea...     8           7           9           9.5         8           \u001b[91m8.26        \u001b[94m9           \u001b[0m\n",
      "Tokyo Ghoul √A                8.5         8           8.5         8           7           \u001b[91m8.33        \u001b[94m9           \u001b[0m\n",
      "Shingeki no Bahamut: G...     8           8.5         8           8           9           \u001b[91m8.09        \u001b[94m8           \u001b[0m\n",
      "Tokyo Ghoul                   8           8.5         9           8           7           \u001b[91m8.26        \u001b[94m8           \u001b[0m\n",
      "Re:Zero kara Hajimeru ...     8.5         8           8           7           6           \u001b[91m8.08        \u001b[94m8           \u001b[0m\n",
      "Fate/stay night: Unlim...     7.5         7           9.5         8           8           \u001b[91m7.84        \u001b[94m8           \u001b[0m\n",
      "Saenai Heroine no Soda...     8.5         7           7.5         7           8           \u001b[91m7.82        \u001b[94m8           \u001b[0m\n",
      "Nisekoi                       7.5         8.5         6.5         7.5         8           \u001b[91m7.5         \u001b[94m8           \u001b[0m\n",
      "Seitokai Yakuindomo           7           7.5         7           8           8.5         \u001b[91m7.26        \u001b[94m8           \u001b[0m\n",
      "Sword Art Online              7           7.5         7           7           7.5         \u001b[91m7.09        \u001b[94m7           \u001b[0m\n",
      "Death Note                    7           7           7.5         7           7           \u001b[91m7.09        \u001b[94m7           \u001b[0m\n",
      "Kiznaiver                     6           8.5         8           7.5         7           \u001b[91m7.02        \u001b[94m7           \u001b[0m\n",
      "Koutetsujou no Kabaneri       5.5         6           10          9           6.5         \u001b[91m6.95        \u001b[94m7           \u001b[0m\n",
      "Seitokai Yakuindomo*          6           6           7.5         7           7           \u001b[91m6.43        \u001b[94m7           \u001b[0m\n",
      "Nisekoi:                      5           7.5         7           7.5         5           \u001b[91m6.19        \u001b[94m6           \u001b[0m\n",
      "Tengen Toppa Gurren La...     5           6           9           8           7           \u001b[91m5.8         \u001b[94m6           \u001b[0m\n",
      "Kono Subarashii Sekai ...     5           6           6           6           6           \u001b[91m5.51        \u001b[94m6           \u001b[0m\n",
      "Kara no Kyoukai 1: Fuk...     4           5           8           6           4           \u001b[91m4.7         \u001b[94m5           \u001b[0m\n",
      "Tengen Toppa Gurren La...     3           7           8.5         8           3           \u001b[91m4.45        \u001b[94m4           \u001b[0m\n",
      "Byousoku 5 Centimeter         3           4           10          7           3           \u001b[91m4.2         \u001b[94m4           \u001b[0m\n"
     ]
    }
   ],
   "source": [
    "print(header())\n",
    "for x in sorted(completed, key=attrgetter('overall','raw'), reverse = True):\n",
    "    print(x)"
   ]
  },
  {
   "cell_type": "code",
   "execution_count": 21,
   "metadata": {},
   "outputs": [],
   "source": [
    "add_show('Kara no Kyoukai 1: Fukan Fuukei', 4, 5, 8, 6, 4)"
   ]
  },
  {
   "cell_type": "code",
   "execution_count": null,
   "metadata": {},
   "outputs": [],
   "source": [
    "s = completed[completed.index(Show('Sword Art Online'))]\n",
    "s.set_plot(7)"
   ]
  },
  {
   "cell_type": "code",
   "execution_count": 6,
   "metadata": {},
   "outputs": [
    {
     "data": {
      "text/plain": [
       "2.15"
      ]
     },
     "execution_count": 6,
     "metadata": {},
     "output_type": "execute_result"
    }
   ],
   "source": [
    "completed[completed.index(Show('Tengen Toppa Gurren Lagann Movie 1: Gurren-hen'))].overall"
   ]
  },
  {
   "cell_type": "code",
   "execution_count": 7,
   "metadata": {},
   "outputs": [
    {
     "data": {
      "text/plain": [
       "[Show<Hunter x Hunter (2011)>,\n",
       " Show<Nisekoi>,\n",
       " Show<Tokyo Ghoul √A>,\n",
       " Show<Boku no Hero Academia>,\n",
       " Show<Fate/stay night: Unlimited Blade Works 2nd Season>,\n",
       " Show<Kono Subarashii Sekai ni Shukufuku wo!>,\n",
       " Show<Shingeki no Kyojin>,\n",
       " Show<Seitokai Yakuindomo*>,\n",
       " Show<Kiznaiver>,\n",
       " Show<Fate/Zero>,\n",
       " Show<Saenai Heroine no Sodatekata>,\n",
       " Show<Re:Zero kara Hajimeru Isekai Seikatsu>,\n",
       " Show<Nisekoi:>,\n",
       " Show<Shingeki no Bahamut: Genesis>,\n",
       " Show<Koutetsujou no Kabaneri>,\n",
       " Show<Kara no Kyoukai 1: Fukan Fuukei>,\n",
       " Show<Fate/Zero 2nd Season>,\n",
       " Show<Shigatsu wa Kimi no Uso>,\n",
       " Show<Tengen Toppa Gurren Lagann>,\n",
       " Show<Kill la Kill>,\n",
       " Show<Shingeki no Kyojin Season 2>,\n",
       " Show<Seitokai Yakuindomo>,\n",
       " Show<Death Note>,\n",
       " Show<One Punch Man>,\n",
       " Show<Tengen Toppa Gurren Lagann Movie 1: Gurren-hen>,\n",
       " Show<Sword Art Online>,\n",
       " Show<Fate/stay night: Unlimited Blade Works>,\n",
       " Show<Kimi no Na wa.>,\n",
       " Show<Byousoku 5 Centimeter>,\n",
       " Show<Ao no Exorcist>,\n",
       " Show<Boku no Hero Academia 2nd Season>,\n",
       " Show<Fullmetal Alchemist: Brotherhood>,\n",
       " Show<Tokyo Ghoul>]"
      ]
     },
     "execution_count": 7,
     "metadata": {},
     "output_type": "execute_result"
    }
   ],
   "source": [
    "completed"
   ]
  },
  {
   "cell_type": "markdown",
   "metadata": {},
   "source": [
    "### Saving"
   ]
  },
  {
   "cell_type": "code",
   "execution_count": null,
   "metadata": {},
   "outputs": [],
   "source": [
    "with open('./show_data/completed_shows.pkl', 'wb') as f:\n",
    "    pickle.dump(completed, f)"
   ]
  },
  {
   "cell_type": "code",
   "execution_count": 5,
   "metadata": {},
   "outputs": [],
   "source": [
    "def add_show(name, plot, characters, art, music, enjoy):\n",
    "#     completed[name] = Show(name, plot, characters, art, music, enjoy)\n",
    "    if Show(name) in completed:\n",
    "        completed.remove(Show(name))\n",
    "    completed.append(Show(name, plot, characters, art, music, enjoy))\n",
    "\n",
    "def add_default(name, default):\n",
    "    if Show(name) in completed:\n",
    "        completed.remove(Show(name))\n",
    "    completed.append(Show(name, default, default, default, default, default))\n",
    "    \n",
    "def update(name):\n",
    "    x = completed.pop(completed.index(Show(name)))\n",
    "    add_show(name, x.plot, x.characters, x.visuals, x.sound, x.enjoyment)"
   ]
  },
  {
   "cell_type": "code",
   "execution_count": null,
   "metadata": {},
   "outputs": [],
   "source": [
    "completed"
   ]
  },
  {
   "cell_type": "code",
   "execution_count": null,
   "metadata": {},
   "outputs": [],
   "source": []
  }
 ],
 "metadata": {
  "kernelspec": {
   "display_name": "Python 3",
   "language": "python",
   "name": "python3"
  },
  "language_info": {
   "codemirror_mode": {
    "name": "ipython",
    "version": 3
   },
   "file_extension": ".py",
   "mimetype": "text/x-python",
   "name": "python",
   "nbconvert_exporter": "python",
   "pygments_lexer": "ipython3",
   "version": "3.6.5"
  }
 },
 "nbformat": 4,
 "nbformat_minor": 2
}
