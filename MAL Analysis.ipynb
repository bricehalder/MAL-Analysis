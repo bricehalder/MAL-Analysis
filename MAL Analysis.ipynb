{
 "cells": [
  {
   "cell_type": "code",
   "execution_count": 1,
   "metadata": {},
   "outputs": [],
   "source": [
    "import pickle\n",
    "from colors import color\n",
    "from operator import itemgetter, attrgetter\n",
    "from show import *"
   ]
  },
  {
   "cell_type": "markdown",
   "metadata": {},
   "source": [
    "### Loading\n"
   ]
  },
  {
   "cell_type": "code",
   "execution_count": 2,
   "metadata": {},
   "outputs": [],
   "source": [
    "with open('./show_data/shows.pkl', 'rb') as f:\n",
    "    completed = pickle.load(f)"
   ]
  },
  {
   "cell_type": "markdown",
   "metadata": {},
   "source": [
    "### Basic Listing"
   ]
  },
  {
   "cell_type": "code",
   "execution_count": 40,
   "metadata": {},
   "outputs": [
    {
     "name": "stdout",
     "output_type": "stream",
     "text": [
      "\u001b[1mNAME                          PLOT        CHARACTERS  VISUALS     SOUND       ENJOYMENT   \u001b[91mRAW         \u001b[94mOVERALL     \u001b[0m\n",
      "Hunter x Hunter (2011)        10          9.5         7           8           9.5         \u001b[91m9.07        \u001b[94m9.52        \u001b[0m\n",
      "Fullmetal Alchemist: B...     10          8           8           8           7           \u001b[91m8.98        \u001b[94m9.18        \u001b[0m\n",
      "Fate/Zero 2nd Season          9           8           10          8           9           \u001b[91m8.83        \u001b[94m9.23        \u001b[0m\n",
      "Boku no Hero Academia ...     9           9           8           8           10          \u001b[91m8.66        \u001b[94m9.16        \u001b[0m\n",
      "Fate/stay night: Unlim...     8           8           10          9           9           \u001b[91m8.51        \u001b[94m8.91        \u001b[0m\n",
      "Kimi no Na wa.                8           7           10          10          8           \u001b[91m8.51        \u001b[94m8.81        \u001b[0m\n",
      "Tokyo Ghoul √A                8.75        8.5         8           8           8           \u001b[91m8.45        \u001b[94m8.75        \u001b[0m\n",
      "Shigatsu wa Kimi no Uso       8           8           8.75        9.75        8           \u001b[91m8.43        \u001b[94m8.73        \u001b[0m\n",
      "Shingeki no Kyojin            8           7           9           10          9           \u001b[91m8.34        \u001b[94m8.74        \u001b[0m\n",
      "Shingeki no Kyojin Sea...     8           7           9.5         9.5         8           \u001b[91m8.34        \u001b[94m8.64        \u001b[0m\n",
      "Tokyo Ghoul                   8.5         8           8           8           7           \u001b[91m8.25        \u001b[94m8.45        \u001b[0m\n",
      "Tengen Toppa Gurren La...     8.5         8           8           8           9.25        \u001b[91m8.24        \u001b[94m8.67        \u001b[0m\n",
      "Fate/Zero                     8           8           9.5         7.75        8           \u001b[91m8.21        \u001b[94m8.51        \u001b[0m\n",
      "Kill la Kill                  8           8           8           9           9           \u001b[91m8.17        \u001b[94m8.57        \u001b[0m\n",
      "Boku no Hero Academia         8.5         8.5         7           8           9.25        \u001b[91m8.16        \u001b[94m8.59        \u001b[0m\n",
      "Saenai Heroine no Soda...     8.5         8.5         8           7           8           \u001b[91m8.16        \u001b[94m8.46        \u001b[0m\n",
      "Shingeki no Bahamut: G...     8           8           8           8           9           \u001b[91m8           \u001b[94m8.4         \u001b[0m\n",
      "Ao no Exorcist                8           8           8           8           8           \u001b[91m8           \u001b[94m8.3         \u001b[0m\n",
      "One Punch Man                 7           7.5         9           9.5         10          \u001b[91m7.85        \u001b[94m8.35        \u001b[0m\n",
      "Nisekoi                       7           8.5         8           8           8           \u001b[91m7.6         \u001b[94m7.9         \u001b[0m\n"
     ]
    }
   ],
   "source": [
    "print(header())\n",
    "for x in sorted(completed, key=attrgetter('raw','overall'), reverse = True):\n",
    "    print(x)"
   ]
  },
  {
   "cell_type": "code",
   "execution_count": 36,
   "metadata": {},
   "outputs": [],
   "source": [
    "add_show('Kill la Kill', 8, 8, 8, 9, 9)"
   ]
  },
  {
   "cell_type": "code",
   "execution_count": 39,
   "metadata": {},
   "outputs": [],
   "source": [
    "s = 'Hunter x Hunter (2011)'\n",
    "completed[completed.index(Show(s))].set_enjoy(9.5)"
   ]
  },
  {
   "cell_type": "code",
   "execution_count": 33,
   "metadata": {
    "collapsed": true
   },
   "outputs": [
    {
     "data": {
      "text/plain": [
       "[Show<Fate/Zero>,\n",
       " Show<Ao no Exorcist>,\n",
       " Show<Boku no Hero Academia 2nd Season>,\n",
       " Show<Nisekoi>,\n",
       " Show<Shigatsu wa Kimi no Uso>,\n",
       " Show<Kill la Kill>,\n",
       " Show<Saenai Heroine no Sodatekata>,\n",
       " Show<Shingeki no Kyojin Season 2>,\n",
       " Show<Tokyo Ghoul>,\n",
       " Show<Tokyo Ghoul √A>,\n",
       " Show<Fate/stay night: Unlimited Blade Works 2nd Season>,\n",
       " Show<Tengen Toppa Gurren Lagann>,\n",
       " Show<One Punch Man>,\n",
       " Show<Boku no Hero Academia>,\n",
       " Show<Hunter x Hunter (2011)>,\n",
       " Show<Shingeki no Bahamut: Genesis>,\n",
       " Show<Fullmetal Alchemist: Brotherhood>,\n",
       " Show<Fate/Zero 2nd Season>,\n",
       " Show<Kimi no Na wa.>,\n",
       " Show<Shingeki no Kyojin>]"
      ]
     },
     "execution_count": 33,
     "metadata": {},
     "output_type": "execute_result"
    }
   ],
   "source": [
    "completed"
   ]
  },
  {
   "cell_type": "code",
   "execution_count": null,
   "metadata": {},
   "outputs": [],
   "source": []
  }
 ],
 "metadata": {
  "kernelspec": {
   "display_name": "Python 3",
   "language": "python",
   "name": "python3"
  },
  "language_info": {
   "codemirror_mode": {
    "name": "ipython",
    "version": 3
   },
   "file_extension": ".py",
   "mimetype": "text/x-python",
   "name": "python",
   "nbconvert_exporter": "python",
   "pygments_lexer": "ipython3",
   "version": "3.6.5"
  }
 },
 "nbformat": 4,
 "nbformat_minor": 2
}
