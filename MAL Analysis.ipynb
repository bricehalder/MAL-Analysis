{
 "cells": [
  {
   "cell_type": "code",
   "execution_count": 2,
   "metadata": {},
   "outputs": [],
   "source": [
    "import pickle\n",
    "import datetime\n",
    "from colors import color\n",
    "from operator import itemgetter, attrgetter\n",
    "from show import *"
   ]
  },
  {
   "cell_type": "markdown",
   "metadata": {},
   "source": [
    "### Loading\n"
   ]
  },
  {
   "cell_type": "code",
   "execution_count": 3,
   "metadata": {},
   "outputs": [],
   "source": [
    "with open('./show_data/completed_shows.pkl', 'rb') as f:\n",
    "    completed = [show for k, show in pickle.load(f).items()]\n",
    "    \n",
    "with open('./show_data/series.pkl', 'rb') as f:\n",
    "    series = pickle.load(f)"
   ]
  },
  {
   "cell_type": "markdown",
   "metadata": {},
   "source": [
    "### Ranking by Show Entry on MAL"
   ]
  },
  {
   "cell_type": "code",
   "execution_count": 4,
   "metadata": {},
   "outputs": [
    {
     "name": "stdout",
     "output_type": "stream",
     "text": [
      "\u001b[1mNAME                                    STORY       CHARACTERS  VISUALS     SOUND       ENJOYMENT   \u001b[91mRAW       \u001b[94mOVERALL     \u001b[0m\n",
      "Shingeki no Kyojin Season 3 Part 2      10          9           10          10          10          \u001b[91m9.7         \u001b[1m\u001b[94m10          \u001b[0m\n",
      "Fruits Basket: The Final                10          10          9           9           10          \u001b[91m9.6         \u001b[1m\u001b[94m10          \u001b[0m\n",
      "Haikyuu!!: Karasuno Koukou vs. S...     9           10          9           10          10          \u001b[91m9.5         \u001b[94m10          \u001b[0m\n",
      "Shingeki no Kyojin Season 3             10          8           10          10          10          \u001b[91m9.4         \u001b[94m10          \u001b[0m\n",
      "Fruits Basket 1st Season                9           10          9           9           10          \u001b[91m9.3         \u001b[94m10          \u001b[0m\n",
      "\n",
      "Fruits Basket 2nd Season                9           10          9           9           10          \u001b[91m9.3         \u001b[94m10          \u001b[0m\n",
      "One Punch Man                           8           9           10          10          10          \u001b[91m9.1         \u001b[92m9           \u001b[0m\n",
      "Shingeki no Kyojin Season 2             9           8           10          10          9           \u001b[91m9.1         \u001b[92m9           \u001b[0m\n",
      "Shingeki no Kyojin                      8           9           10          10          9           \u001b[91m9.1         \u001b[92m9           \u001b[0m\n",
      "Hunter x Hunter (2011)                  10          10          8           7           10          \u001b[91m9           \u001b[92m9           \u001b[0m\n",
      "\n",
      "Jujutsu Kaisen                          9           9           10          8           10          \u001b[91m9           \u001b[92m9           \u001b[0m\n",
      "Haikyuu!! Second Season                 8           10          8           10          10          \u001b[91m9           \u001b[92m9           \u001b[0m\n",
      "Haikyuu!!                               8           10          8           10          10          \u001b[91m9           \u001b[92m9           \u001b[0m\n",
      "Haikyuu!!: To the Top 2nd Season        8           10          8           10          10          \u001b[91m9           \u001b[92m9           \u001b[0m\n",
      "Fate/Zero 2nd Season                    9           9           10          8           9           \u001b[91m9           \u001b[92m9           \u001b[0m\n",
      "\n",
      "Shingeki no Kyojin: The Final Se...     10          9           7           9           10          \u001b[91m8.9         \u001b[92m9           \u001b[0m\n",
      "86                                      9           8           9           10          10          \u001b[91m8.9         \u001b[92m9           \u001b[0m\n",
      "Kimetsu no Yaiba                        8           9           10          9           10          \u001b[91m8.9         \u001b[92m9           \u001b[0m\n",
      "Fullmetal Alchemist: Brotherhood        10          9           8           8           9           \u001b[91m8.9         \u001b[92m9           \u001b[0m\n",
      "Shokugeki no Souma: San no Sara         9           9           9           8           10          \u001b[91m8.8         \u001b[92m9           \u001b[0m\n",
      "\n",
      "Boku no Hero Academia 4th Season        9           9           8           9           10          \u001b[91m8.8         \u001b[92m9           \u001b[0m\n",
      "Enen no Shouboutai: Ni no Shou          9           9           8           9           10          \u001b[91m8.8         \u001b[92m9           \u001b[0m\n",
      "Fate/Zero                               9           9           9           8           9           \u001b[91m8.8         \u001b[92m9           \u001b[0m\n",
      "Haikyuu!!: To the Top                   8           10          7           10          9           \u001b[91m8.8         \u001b[92m9           \u001b[0m\n",
      "Boku no Hero Academia 2nd Season        8           9           8           10          10          \u001b[91m8.7         \u001b[92m9           \u001b[0m\n",
      "\n",
      "Boku no Hero Academia                   8           9           8           10          9           \u001b[91m8.7         \u001b[92m9           \u001b[0m\n",
      "Sword Art Online                        8           9           9           9           9           \u001b[91m8.7         \u001b[92m9           \u001b[0m\n",
      "Boku dake ga Inai Machi                 9           8           8           9           10          \u001b[91m8.5         \u001b[92m9           \u001b[0m\n",
      "Shokugeki no Souma: Ni no Sara          8           9           9           8           10          \u001b[91m8.5         \u001b[92m9           \u001b[0m\n",
      "Kanojo, Okarishimasu                    8           9           9           8           9           \u001b[91m8.5         \u001b[92m9           \u001b[0m\n",
      "\n",
      "Tengen Toppa Gurren Lagann              8           9           8           9           9           \u001b[91m8.5         \u001b[92m9           \u001b[0m\n",
      "Boku no Hero Academia 3rd Season        8           9           8           9           9           \u001b[91m8.5         \u001b[92m9           \u001b[0m\n",
      "Shokugeki no Souma                      8           9           9           8           9           \u001b[91m8.5         \u001b[92m9           \u001b[0m\n",
      "No Game No Life                         8           9           9           8           9           \u001b[91m8.5         \u001b[92m9           \u001b[0m\n",
      "Re:Zero kara Hajimeru Isekai Sei...     9           8           8           9           8           \u001b[91m8.5         \u001b[92m9           \u001b[0m\n",
      "\n",
      "Kaze ga Tsuyoku Fuiteiru                8           9           8           9           8           \u001b[91m8.5         \u001b[92m9           \u001b[0m\n",
      "Kimi no Na wa.                          8           7           10          10          8           \u001b[91m8.5         \u001b[92m9           \u001b[0m\n",
      "Enen no Shouboutai                      8           9           8           9           8           \u001b[91m8.5         \u001b[92m9           \u001b[0m\n",
      "Steins;Gate                             10          8           7           8           9           \u001b[91m8.4         \u001b[92m9           \u001b[0m\n",
      "Fate/stay night: Unlimited Blade...     8           8           10          8           9           \u001b[91m8.4         \u001b[92m9           \u001b[0m\n",
      "\n",
      "Fate/stay night Movie: Heaven's ...     8           8           10          8           8           \u001b[91m8.4         \u001b[92m9           \u001b[0m\n",
      "Steins;Gate 0                           9           8           8           8           9           \u001b[91m8.3         \u001b[92m9           \u001b[0m\n",
      "Death Note                              9           8           8           8           9           \u001b[91m8.3         \u001b[92m9           \u001b[0m\n",
      "Code Geass: Hangyaku no Lelouch R2      9           8           8           8           8           \u001b[91m8.3         \u001b[36m8           \u001b[0m\n",
      "Shigatsu wa Kimi no Uso                 8           7           9           10          8           \u001b[91m8.3         \u001b[36m8           \u001b[0m\n",
      "\n",
      "Kill la Kill                            8           8           8           9           9           \u001b[91m8.2         \u001b[36m8           \u001b[0m\n",
      "Fate/stay night: Unlimited Blade...     8           8           9           8           8           \u001b[91m8.2         \u001b[36m8           \u001b[0m\n",
      "One Punch Man 2nd Season                8           9           7           8           9           \u001b[91m8.1         \u001b[36m8           \u001b[0m\n",
      "Akame ga Kill!                          8           9           8           7           9           \u001b[91m8.1         \u001b[36m8           \u001b[0m\n",
      "Tonikaku Kawaii                         8           8           7           9           9           \u001b[91m8           \u001b[36m8           \u001b[0m\n",
      "\n",
      "Kiznaiver                               8           8           8           8           8           \u001b[91m8           \u001b[36m8           \u001b[0m\n",
      "Ao no Exorcist                          8           8           8           8           8           \u001b[91m8           \u001b[36m8           \u001b[0m\n",
      "Saenai Heroine no Sodatekata            7           8           8           9           8           \u001b[91m7.9         \u001b[36m8           \u001b[0m\n",
      "Mahou Shoujo Madoka★Magica              8           8           7           8           8           \u001b[91m7.8         \u001b[36m8           \u001b[0m\n",
      "Nisekoi                                 8           8           7           8           8           \u001b[91m7.8         \u001b[36m8           \u001b[0m\n",
      "\n",
      "Seishun Buta Yarou wa Bunny Girl...     8           8           8           7           8           \u001b[91m7.8         \u001b[36m8           \u001b[0m\n",
      "Seitokai Yakuindomo                     7           8           8           8           9           \u001b[91m7.7         \u001b[36m8           \u001b[0m\n",
      "Shingeki no Bahamut: Genesis            8           7           8           8           8           \u001b[91m7.7         \u001b[36m8           \u001b[0m\n",
      "Tokyo Ghoul                             8           7           8           8           8           \u001b[91m7.7         \u001b[36m8           \u001b[0m\n",
      "Vivy: Fluorite Eye's Song               8           7           8           8           8           \u001b[91m7.7         \u001b[36m8           \u001b[0m\n",
      "\n",
      "Shokugeki no Souma: Gou no Sara         8           9           5           8           8           \u001b[91m7.7         \u001b[36m8           \u001b[0m\n",
      "Given                                   7           8           7           9           7           \u001b[91m7.7         \u001b[36m8           \u001b[0m\n",
      "Code Geass: Hangyaku no Lelouch         8           7           8           7           8           \u001b[91m7.5         \u001b[36m8           \u001b[0m\n",
      "Seitokai Yakuindomo*                    7           8           7           8           8           \u001b[91m7.5         \u001b[36m8           \u001b[0m\n",
      "Darling in the FranXX                   7           8           8           7           8           \u001b[91m7.5         \u001b[36m8           \u001b[0m\n",
      "\n",
      "Kono Subarashii Sekai ni Shukufu...     7           8           8           7           7           \u001b[91m7.5         \u001b[36m8           \u001b[0m\n",
      "Re:Zero kara Hajimeru Isekai Sei...     8           8           6           7           6           \u001b[91m7.4         \u001b[93m7           \u001b[0m\n",
      "Tokyo Ghoul:re                          7           7           7           7           6           \u001b[91m7           \u001b[93m7           \u001b[0m\n",
      "Shokugeki no Souma: Shin no Sara        6           9           5           8           7           \u001b[91m6.75        \u001b[93m7           \u001b[0m\n",
      "Tokyo Ghoul √A                          7           6           7           7           6           \u001b[91m6.7         \u001b[93m7           \u001b[0m\n",
      "\n",
      "Nisekoi:                                6           8           7           7           6           \u001b[91m6.7         \u001b[93m7           \u001b[0m\n",
      "Koutetsujou no Kabaneri                 3           5           9           9           6           \u001b[91m5.2         \u001b[91m5           \u001b[0m\n"
     ]
    }
   ],
   "source": [
    "# %%capture cap --no-stderr\n",
    "\n",
    "print('' + header())\n",
    "rank = 1\n",
    "lines = 1\n",
    "cur_raw = 10\n",
    "#                          change key to sort differently\n",
    "for x in sorted(completed, key=attrgetter('raw', 'overall', 'plot'), reverse = True):\n",
    "        if x.raw < cur_raw:\n",
    "            rank = lines\n",
    "            cur_raw = x.raw\n",
    "        print(x)\n",
    "        if (lines % 5 == 0):\n",
    "            print()\n",
    "        lines += 1\n",
    "\n",
    "# now = datetime.datetime.now()\n",
    "# with open(f'./rankings/shows_{now.month}_{now.day}_{now.year}.html', 'w') as f:\n",
    "#     f.write(cap.stdout)"
   ]
  },
  {
   "cell_type": "markdown",
   "metadata": {},
   "source": [
    "### Ranking by Series"
   ]
  },
  {
   "cell_type": "code",
   "execution_count": 5,
   "metadata": {},
   "outputs": [
    {
     "name": "stdout",
     "output_type": "stream",
     "text": [
      "\u001b[1mNAME                                    STORY       CHARACTERS  VISUALS     SOUND       ENJOYMENT   \u001b[91mRAW       \u001b[94mOVERALL     \u001b[0m\n",
      "(3) Fruits Basket                       9.33        10          9           9           10          \u001b[91m9.4         \u001b[94m10          \u001b[0m\n",
      "(5) Shingeki no Kyojin                  9.4         8.6         9.4         9.8         9.6         \u001b[91m9.24        \u001b[94m10          \u001b[0m\n",
      "(5) Haikyuu!!                           8.2         10          8           10          9.8         \u001b[91m9.06        \u001b[92m9           \u001b[0m\n",
      "(1) Hunter x Hunter (2011)              10          10          8           7           10          \u001b[91m9           \u001b[92m9           \u001b[0m\n",
      "(1) Jujutsu Kaisen                      9           9           10          8           10          \u001b[91m9           \u001b[92m9           \u001b[0m\n",
      "\n",
      "(1) 86                                  9           8           9           10          10          \u001b[91m8.9         \u001b[92m9           \u001b[0m\n",
      "(1) Kimetsu no Yaiba                    8           9           10          9           10          \u001b[91m8.9         \u001b[92m9           \u001b[0m\n",
      "(1) Fullmetal Alchemist: Brotherhood    10          9           8           8           9           \u001b[91m8.9         \u001b[92m9           \u001b[0m\n",
      "(2) Fate/Zero                           9           9           9.5         8           9           \u001b[91m8.9         \u001b[92m9           \u001b[0m\n",
      "(1) Sword Art Online                    8           9           9           9           9           \u001b[91m8.7         \u001b[92m9           \u001b[0m\n",
      "\n",
      "(4) Boku no Hero Academia               8.25        9           8           9.5         9.5         \u001b[91m8.68        \u001b[92m9           \u001b[0m\n",
      "(2) Enen no Shouboutai                  8.5         9           8           9           9           \u001b[91m8.65        \u001b[92m9           \u001b[0m\n",
      "(2) One Punch Man                       8           9           8.5         9           9.5         \u001b[91m8.6         \u001b[92m9           \u001b[0m\n",
      "(1) Boku dake ga Inai Machi             9           8           8           9           10          \u001b[91m8.5         \u001b[92m9           \u001b[0m\n",
      "(1) Kanojo, Okarishimasu                8           9           9           8           9           \u001b[91m8.5         \u001b[92m9           \u001b[0m\n",
      "\n",
      "(1) No Game No Life                     8           9           9           8           9           \u001b[91m8.5         \u001b[92m9           \u001b[0m\n",
      "(1) Tengen Toppa Gurren Lagann          8           9           8           9           9           \u001b[91m8.5         \u001b[92m9           \u001b[0m\n",
      "(1) Kaze ga Tsuyoku Fuiteiru            8           9           8           9           8           \u001b[91m8.5         \u001b[92m9           \u001b[0m\n",
      "(1) Kimi no Na wa.                      8           7           10          10          8           \u001b[91m8.5         \u001b[92m9           \u001b[0m\n",
      "(1) Fate/stay night Movie: Heaven's ... 8           8           10          8           8           \u001b[91m8.4         \u001b[36m8           \u001b[0m\n",
      "\n",
      "(2) Steins;Gate                         9.5         8           7.5         8           9           \u001b[91m8.35        \u001b[92m9           \u001b[0m\n",
      "(1) Death Note                          9           8           8           8           9           \u001b[91m8.3         \u001b[36m8           \u001b[0m\n",
      "(2) Fate/stay night: Unlimited Blade... 8           8           9.5         8           8.5         \u001b[91m8.3         \u001b[36m8           \u001b[0m\n",
      "(1) Shigatsu wa Kimi no Uso             8           7           9           10          8           \u001b[91m8.3         \u001b[36m8           \u001b[0m\n",
      "(1) Kill la Kill                        8           8           8           9           9           \u001b[91m8.2         \u001b[36m8           \u001b[0m\n",
      "\n",
      "(1) Akame ga Kill!                      8           9           8           7           9           \u001b[91m8.1         \u001b[36m8           \u001b[0m\n",
      "(5) Shokugeki no Souma                  7.8         9           7.4         8           8.8         \u001b[91m8.05        \u001b[36m8           \u001b[0m\n",
      "(1) Tonikaku Kawaii                     8           8           7           9           9           \u001b[91m8           \u001b[36m8           \u001b[0m\n",
      "(1) Ao no Exorcist                      8           8           8           8           8           \u001b[91m8           \u001b[36m8           \u001b[0m\n",
      "(1) Kiznaiver                           8           8           8           8           8           \u001b[91m8           \u001b[36m8           \u001b[0m\n",
      "\n",
      "(2) Re:Zero kara Hajimeru Isekai Sei... 8.5         8           7           8           7           \u001b[91m7.95        \u001b[36m8           \u001b[0m\n",
      "(2) Code Geass: Hangyaku no Lelouch     8.5         7.5         8           7.5         8           \u001b[91m7.9         \u001b[36m8           \u001b[0m\n",
      "(1) Saenai Heroine no Sodatekata        7           8           8           9           8           \u001b[91m7.9         \u001b[36m8           \u001b[0m\n",
      "(1) Mahou Shoujo Madoka★Magica          8           8           7           8           8           \u001b[91m7.8         \u001b[36m8           \u001b[0m\n",
      "(1) Seishun Buta Yarou wa Bunny Girl... 8           8           8           7           8           \u001b[91m7.8         \u001b[36m8           \u001b[0m\n",
      "\n",
      "(1) Shingeki no Bahamut: Genesis        8           7           8           8           8           \u001b[91m7.7         \u001b[36m8           \u001b[0m\n",
      "(1) Vivy: Fluorite Eye's Song           8           7           8           8           8           \u001b[91m7.7         \u001b[36m8           \u001b[0m\n",
      "(1) Given                               7           8           7           9           7           \u001b[91m7.7         \u001b[36m8           \u001b[0m\n",
      "(2) Seitokai Yakuindomo                 7           8           7.5         8           8.5         \u001b[91m7.6         \u001b[36m8           \u001b[0m\n",
      "(1) Darling in the FranXX               7           8           8           7           8           \u001b[91m7.5         \u001b[36m8           \u001b[0m\n",
      "\n",
      "(1) Kono Subarashii Sekai ni Shukufu... 7           8           8           7           7           \u001b[91m7.5         \u001b[36m8           \u001b[0m\n",
      "(2) Nisekoi                             7           8           7           7.5         7           \u001b[91m7.25        \u001b[93m7           \u001b[0m\n",
      "(3) Tokyo Ghoul                         7.33        6.67        7.33        7.33        6.67        \u001b[91m7.13        \u001b[93m7           \u001b[0m\n",
      "(1) Koutetsujou no Kabaneri             3           5           9           9           6           \u001b[91m5.2         \u001b[91m5           \u001b[0m\n"
     ]
    }
   ],
   "source": [
    "# %%capture cap --no-stderr\n",
    "\n",
    "print('' + header())\n",
    "lines = 1\n",
    "\n",
    "s_list = [v for k,v in series.items()]\n",
    "\n",
    "#                          change key to sort differently\n",
    "for x in sorted(s_list, key=attrgetter('raw', 'overall', 'plot'), reverse = True):\n",
    "        print(x)\n",
    "        if (lines % 5 == 0):\n",
    "            print()\n",
    "        lines += 1\n",
    "        \n",
    "\n",
    "# now = datetime.datetime.now()\n",
    "# with open(f'./rankings/series_{now.month}_{now.day}_{now.year}.html', 'w') as f:\n",
    "#     f.write(cap.stdout)"
   ]
  },
  {
   "cell_type": "code",
   "execution_count": 6,
   "metadata": {},
   "outputs": [
    {
     "name": "stdout",
     "output_type": "stream",
     "text": [
      "Fruits Basket: The Final                10          10          9           9           10          \u001b[91m9.6         \u001b[1m\u001b[94m10          \u001b[0m\n",
      "Fruits Basket 2nd Season                9           10          9           9           10          \u001b[91m9.3         \u001b[94m10          \u001b[0m\n",
      "Fruits Basket 1st Season                9           10          9           9           10          \u001b[91m9.3         \u001b[94m10          \u001b[0m\n"
     ]
    },
    {
     "data": {
      "text/plain": [
       "9.333333333333334"
      ]
     },
     "execution_count": 6,
     "metadata": {},
     "output_type": "execute_result"
    }
   ],
   "source": [
    "shows = series['Fruits Basket']\n",
    "for show in shows.shows:\n",
    "    print(show)\n",
    "\n",
    "shows.plot"
   ]
  },
  {
   "cell_type": "code",
   "execution_count": 6,
   "metadata": {},
   "outputs": [
    {
     "data": {
      "text/plain": [
       "9.4"
      ]
     },
     "execution_count": 6,
     "metadata": {},
     "output_type": "execute_result"
    }
   ],
   "source": [
    "completed[completed.index(Show('One Punch Man'))].overall"
   ]
  },
  {
   "cell_type": "code",
   "execution_count": 7,
   "metadata": {},
   "outputs": [
    {
     "data": {
      "text/plain": [
       "9.7"
      ]
     },
     "execution_count": 7,
     "metadata": {},
     "output_type": "execute_result"
    }
   ],
   "source": [
    "completed[completed.index(Show('Shingeki no Kyojin Season 3'))].overall"
   ]
  },
  {
   "cell_type": "markdown",
   "metadata": {},
   "source": [
    "### Export"
   ]
  },
  {
   "cell_type": "code",
   "execution_count": 1,
   "metadata": {},
   "outputs": [
    {
     "ename": "NameError",
     "evalue": "name 'series' is not defined",
     "output_type": "error",
     "traceback": [
      "\u001b[0;31m---------------------------------------------------------------------------\u001b[0m",
      "\u001b[0;31mNameError\u001b[0m                                 Traceback (most recent call last)",
      "Cell \u001b[0;32mIn[1], line 18\u001b[0m\n\u001b[1;32m     15\u001b[0m os\u001b[38;5;241m.\u001b[39mmakedirs(os\u001b[38;5;241m.\u001b[39mpath\u001b[38;5;241m.\u001b[39mdirname(filename), exist_ok\u001b[38;5;241m=\u001b[39m\u001b[38;5;28;01mTrue\u001b[39;00m)\n\u001b[1;32m     16\u001b[0m f \u001b[38;5;241m=\u001b[39m \u001b[38;5;28mopen\u001b[39m(filename, \u001b[38;5;124m\"\u001b[39m\u001b[38;5;124mw\u001b[39m\u001b[38;5;124m\"\u001b[39m)\n\u001b[0;32m---> 18\u001b[0m s_list \u001b[38;5;241m=\u001b[39m [v \u001b[38;5;28;01mfor\u001b[39;00m k,v \u001b[38;5;129;01min\u001b[39;00m \u001b[43mseries\u001b[49m\u001b[38;5;241m.\u001b[39mitems()]\n\u001b[1;32m     20\u001b[0m rank \u001b[38;5;241m=\u001b[39m \u001b[38;5;241m0\u001b[39m\n\u001b[1;32m     21\u001b[0m f\u001b[38;5;241m.\u001b[39mwrite(\u001b[38;5;124m'\u001b[39m\u001b[38;5;124m   \u001b[39m\u001b[38;5;132;01m{}\u001b[39;00m\u001b[38;5;130;01m\\n\u001b[39;00m\u001b[38;5;124m'\u001b[39m\u001b[38;5;241m.\u001b[39mformat(header_file()))\n",
      "\u001b[0;31mNameError\u001b[0m: name 'series' is not defined"
     ]
    }
   ],
   "source": [
    "from prettytable import PrettyTable\n",
    "import os\n",
    "\n",
    "t = PrettyTable(['Rank', 'Show', 'Plot', 'Characters', 'Visuals', 'Sound', 'Enjoyment', 'Raw', 'Overall'])\n",
    "t.align[\"Rank\"] = \"r\"\n",
    "t.align[\"Show\"] = \"l\"\n",
    "t.align[\"Character\"] = \"l\"\n",
    "t.align[\"Visuals\"] = \"l\"\n",
    "t.align[\"Sound\"] = \"l\"\n",
    "t.align[\"Enjoyment\"] = \"l\"\n",
    "t.align[\"Raw\"] = \"l\"\n",
    "t.align[\"Overall\"] = \"l\"\n",
    "\n",
    "filename = \"./rankings/show_ranking.txt\"\n",
    "os.makedirs(os.path.dirname(filename), exist_ok=True)\n",
    "f = open(filename, \"w\")\n",
    "\n",
    "s_list = [v for k,v in series.items()]\n",
    "\n",
    "rank = 0\n",
    "f.write('   {}\\n'.format(header_file()))\n",
    "for x in sorted(s_list, key=attrgetter('raw','overall'), reverse = True):\n",
    "    t.add_row([rank + 1, x.truncate(35), int(x.plot), int(x.characters), int(x.visuals), int(x.sound), int(x.enjoyment), round(x.raw, 3), int(round(x.overall))])\n",
    "    f.write('{}. {}\\n'.format(rank + 1, x.str_no_color(40)))\n",
    "    rank += 1\n",
    "\n",
    "print(t)\n",
    "\n",
    "\n",
    "\n",
    "        \n",
    "f.close()"
   ]
  },
  {
   "cell_type": "code",
   "execution_count": null,
   "metadata": {},
   "outputs": [],
   "source": []
  },
  {
   "cell_type": "code",
   "execution_count": null,
   "metadata": {},
   "outputs": [],
   "source": []
  }
 ],
 "metadata": {
  "kernelspec": {
   "display_name": "Python 3 (ipykernel)",
   "language": "python",
   "name": "python3"
  },
  "language_info": {
   "codemirror_mode": {
    "name": "ipython",
    "version": 3
   },
   "file_extension": ".py",
   "mimetype": "text/x-python",
   "name": "python",
   "nbconvert_exporter": "python",
   "pygments_lexer": "ipython3",
   "version": "3.8.9"
  }
 },
 "nbformat": 4,
 "nbformat_minor": 4
}
