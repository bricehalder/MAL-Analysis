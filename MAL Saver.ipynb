{
 "cells": [
  {
   "cell_type": "markdown",
   "metadata": {},
   "source": [
    "This notebook is for downloading your own MAL data, with the overall rating of the show set to the one given in MAL. \n",
    "\n",
    "The rest of the values are by default 0 and need to be manually input."
   ]
  },
  {
   "cell_type": "markdown",
   "metadata": {},
   "source": [
    "### Loading\n"
   ]
  },
  {
   "cell_type": "code",
   "execution_count": 1,
   "metadata": {},
   "outputs": [],
   "source": [
    "from show import *\n",
    "from series import *\n",
    "from colors import color\n",
    "from operator import itemgetter, attrgetter"
   ]
  },
  {
   "cell_type": "code",
   "execution_count": 2,
   "metadata": {},
   "outputs": [],
   "source": [
    "import pickle\n",
    "completed = {}\n",
    "\n",
    "with open('./show_data/completed_shows.pkl', 'rb') as f:\n",
    "    completed = pickle.load(f)\n",
    "    \n",
    "with open('./show_data/series.pkl', 'rb') as f:\n",
    "    series = pickle.load(f)\n",
    "    \n",
    "with open('./show_data/decisions.pkl', 'rb') as f:\n",
    "    decisions = pickle.load(f)"
   ]
  },
  {
   "cell_type": "markdown",
   "metadata": {},
   "source": [
    "### Definitions"
   ]
  },
  {
   "cell_type": "code",
   "execution_count": 21,
   "metadata": {},
   "outputs": [],
   "source": [
    "def input_safe(txt):\n",
    "    try:\n",
    "        inp = float(input(txt))\n",
    "        if inp < 0 or inp > 10:\n",
    "            return \"error\"\n",
    "        else:\n",
    "            return inp\n",
    "    except:\n",
    "        print('Error')\n",
    "\n",
    "def create_show(name='', tp='TV'):\n",
    "    if len(name) == 0:\n",
    "        name = input(\"Name of Show: \").strip()\n",
    "    plot = float(input_safe(\"Story: \"))\n",
    "    characters = float(input_safe(\"Characters: \"))\n",
    "    art = float(input_safe(\"Art/Animation: \"))\n",
    "    music = float(input_safe(\"Sound: \"))\n",
    "    enjoy = float(input_safe(\"Personal Enjoyment: \"))\n",
    "    return Show(name, plot, characters, art, music, enjoy, tp)\n",
    "\n",
    "def create_movie(name=''):\n",
    "    return create_show(name, 'Movie')\n",
    "\n",
    "def add_show(show):\n",
    "    old = completed.pop(show.name, None)\n",
    "    if old:\n",
    "        show.set_type(old.get_type())\n",
    "    completed[show.name] = show\n",
    "    \n",
    "    for title in series:\n",
    "        shows = series[title].shows\n",
    "        if show in shows:\n",
    "            series[title].addShow(show)\n",
    "            break"
   ]
  },
  {
   "cell_type": "markdown",
   "metadata": {},
   "source": [
    "### Make/Update Entries"
   ]
  },
  {
   "cell_type": "code",
   "execution_count": 53,
   "metadata": {},
   "outputs": [
    {
     "name": "stdout",
     "output_type": "stream",
     "text": [
      "Enter name of show: Shingeki no Kyojin Season 2   \n",
      "Shingeki no Kyojin Season 2             8           8           10          10          9           \u001b[91m8.8         \u001b[92m9           \u001b[0m\n",
      "Story: 8\n",
      "Characters: 8\n",
      "Art/Animation: 10\n",
      "Sound: 10\n",
      "Personal Enjoyment: 9\n",
      "\n",
      "Shingeki no Kyojin Season 2             8           8           10          10          9           \u001b[91m8.8         \u001b[92m9           \u001b[0m\n",
      "\n",
      "Add another? (yes/no/edit): \n"
     ]
    }
   ],
   "source": [
    "def entries(shows=[], ans=''):\n",
    "    while shows or ans == 'yes' or ans == 'y' or len(ans) > 2:\n",
    "        if shows:\n",
    "            name = shows.pop(0)\n",
    "        else:    \n",
    "            name = ans\n",
    "        \n",
    "        name = name.strip()\n",
    "\n",
    "        if len(name) > 0 :\n",
    "            if name in completed:\n",
    "                print(str(completed[name]))\n",
    "                \n",
    "            try:\n",
    "                x = create_show(name) # change to create_movie to add movie\n",
    "                print('\\n' + str(x))\n",
    "                add_show(x)\n",
    "            except TypeError as t_e:\n",
    "                print()\n",
    "        else:\n",
    "            if len(name) == 0:\n",
    "                print('err: no name entered')\n",
    "                break\n",
    "        \n",
    "        if not shows:\n",
    "            ans = input('\\nAdd another? (yes/no/edit): ')\n",
    "            \n",
    "ans = input('Enter name of show: ')\n",
    "# ans = ''\n",
    "entries(ans=ans)"
   ]
  },
  {
   "cell_type": "code",
   "execution_count": 54,
   "metadata": {},
   "outputs": [
    {
     "name": "stdout",
     "output_type": "stream",
     "text": [
      "Enter name of series: Shingeki no Kyojin\n",
      "Shingeki no Kyojin Season 2             8           8           10          10          9           \u001b[91m8.8         \u001b[92m9           \u001b[0m\n",
      "Shingeki no Kyojin Season 3 Part 2      10          9           10          10          10          \u001b[91m9.7         \u001b[1m\u001b[94m10          \u001b[0m\n",
      "Shingeki no Kyojin                      8           9           10          10          9           \u001b[91m9.1         \u001b[92m9           \u001b[0m\n",
      "Shingeki no Kyojin Season 3             9           8           10          10          10          \u001b[91m9.1         \u001b[92m9           \u001b[0m\n",
      "Shingeki no Kyojin: The Final Se...     10          9           7           9           9           \u001b[91m8.9         \u001b[92m9           \u001b[0m\n",
      "\n",
      "Shingeki no Kyojin Season 2             8           8           10          10          9           \u001b[91m8.8         \u001b[92m9           \u001b[0m\n",
      "Story: \n",
      "Error\n",
      "\n",
      "Shingeki no Kyojin Season 3 Part 2      10          9           10          10          10          \u001b[91m9.7         \u001b[1m\u001b[94m10          \u001b[0m\n",
      "Story: \n",
      "Error\n",
      "\n",
      "Shingeki no Kyojin                      8           9           10          10          9           \u001b[91m9.1         \u001b[92m9           \u001b[0m\n",
      "Story: \n",
      "Error\n",
      "\n",
      "Shingeki no Kyojin Season 3             9           8           10          10          10          \u001b[91m9.1         \u001b[92m9           \u001b[0m\n",
      "Story: \n",
      "Error\n",
      "\n",
      "Shingeki no Kyojin: The Final Se...     10          9           7           9           9           \u001b[91m8.9         \u001b[92m9           \u001b[0m\n",
      "Story: \n",
      "Error\n",
      "\n",
      "\n",
      "Add another? (yes/no/edit): \n"
     ]
    }
   ],
   "source": [
    "s = input('Enter name of series: ')\n",
    "if s in series:\n",
    "    for show in series[s].shows:\n",
    "        print(show)\n",
    "    print()\n",
    "    entries(series[s].getShows())\n",
    "else:\n",
    "    print('Series not found')"
   ]
  },
  {
   "cell_type": "code",
   "execution_count": 32,
   "metadata": {},
   "outputs": [
    {
     "data": {
      "text/plain": [
       "(['86',\n",
       "  'Akame ga Kill!',\n",
       "  'Ao no Exorcist',\n",
       "  'Boku dake ga Inai Machi',\n",
       "  'Boku no Hero Academia',\n",
       "  'Boku no Hero Academia 2nd Season',\n",
       "  'Boku no Hero Academia 3rd Season',\n",
       "  'Boku no Hero Academia 4th Season',\n",
       "  'Code Geass: Hangyaku no Lelouch',\n",
       "  'Code Geass: Hangyaku no Lelouch R2',\n",
       "  'Darling in the FranXX',\n",
       "  'Death Note',\n",
       "  'Enen no Shouboutai',\n",
       "  'Enen no Shouboutai: Ni no Shou',\n",
       "  'Fate/Zero',\n",
       "  'Fate/Zero 2nd Season',\n",
       "  \"Fate/stay night Movie: Heaven's Feel - I. Presage Flower\",\n",
       "  'Fate/stay night: Unlimited Blade Works',\n",
       "  'Fate/stay night: Unlimited Blade Works 2nd Season',\n",
       "  'Fruits Basket 1st Season',\n",
       "  'Fruits Basket 2nd Season',\n",
       "  'Fruits Basket: The Final',\n",
       "  'Fullmetal Alchemist: Brotherhood',\n",
       "  'Given',\n",
       "  'Haikyuu!!',\n",
       "  'Haikyuu!! Second Season',\n",
       "  'Haikyuu!!: Karasuno Koukou vs. Shiratorizawa Gakuen Koukou',\n",
       "  'Haikyuu!!: To the Top',\n",
       "  'Haikyuu!!: To the Top 2nd Season',\n",
       "  'Hunter x Hunter (2011)',\n",
       "  'Jujutsu Kaisen',\n",
       "  'Kanojo, Okarishimasu',\n",
       "  'Kaze ga Tsuyoku Fuiteiru',\n",
       "  'Kill la Kill',\n",
       "  'Kimetsu no Yaiba',\n",
       "  'Kimi no Na wa.',\n",
       "  'Kiznaiver',\n",
       "  'Kono Subarashii Sekai ni Shukufuku wo!',\n",
       "  'Koutetsujou no Kabaneri',\n",
       "  'Mahou Shoujo Madoka★Magica',\n",
       "  'Nisekoi',\n",
       "  'Nisekoi:',\n",
       "  'No Game No Life',\n",
       "  'One Punch Man',\n",
       "  'One Punch Man 2nd Season',\n",
       "  'Re:Zero kara Hajimeru Isekai Seikatsu',\n",
       "  'Re:Zero kara Hajimeru Isekai Seikatsu 2nd Season',\n",
       "  'Saenai Heroine no Sodatekata',\n",
       "  'Seishun Buta Yarou wa Bunny Girl Senpai no Yume wo Minai',\n",
       "  'Seitokai Yakuindomo',\n",
       "  'Seitokai Yakuindomo*',\n",
       "  'Shigatsu wa Kimi no Uso',\n",
       "  'Shingeki no Bahamut: Genesis',\n",
       "  'Shingeki no Kyojin',\n",
       "  'Shingeki no Kyojin Season 2',\n",
       "  'Shingeki no Kyojin Season 3',\n",
       "  'Shingeki no Kyojin Season 3 Part 2',\n",
       "  'Shingeki no Kyojin: The Final Season',\n",
       "  'Shokugeki no Souma',\n",
       "  'Shokugeki no Souma: Gou no Sara',\n",
       "  'Shokugeki no Souma: Ni no Sara',\n",
       "  'Shokugeki no Souma: San no Sara',\n",
       "  'Shokugeki no Souma: Shin no Sara',\n",
       "  'Steins;Gate',\n",
       "  'Steins;Gate 0',\n",
       "  'Sword Art Online',\n",
       "  'Tengen Toppa Gurren Lagann',\n",
       "  'Tokyo Ghoul',\n",
       "  'Tokyo Ghoul √A',\n",
       "  'Tokyo Ghoul:re',\n",
       "  'Tonikaku Kawaii',\n",
       "  \"Vivy: Fluorite Eye's Song\"],\n",
       " 72)"
      ]
     },
     "execution_count": 32,
     "metadata": {},
     "output_type": "execute_result"
    }
   ],
   "source": [
    "sorted(completed), len(completed)"
   ]
  },
  {
   "cell_type": "code",
   "execution_count": 34,
   "metadata": {},
   "outputs": [],
   "source": [
    "def percentMatch(show, title):\n",
    "    matches = 0\n",
    "    common = ''\n",
    "    thresh = 8\n",
    "        \n",
    "    for i in range(len(show)):\n",
    "        if i >= len(title):\n",
    "            break\n",
    "        \n",
    "        if title[i] == show[i]:\n",
    "            matches += 1\n",
    "            common += title[i]\n",
    "        else:\n",
    "            break\n",
    "    \n",
    "#     if matches > thresh:\n",
    "#         return matches, 1, common\n",
    "    \n",
    "    return matches, matches / max(len(show), len(title)), common.strip()"
   ]
  },
  {
   "cell_type": "code",
   "execution_count": 35,
   "metadata": {
    "scrolled": false
   },
   "outputs": [],
   "source": [
    "# series = {}\n",
    "def fmtString(num, percent, matches, title, name, common):\n",
    "    return f'({str(num)}){percent*100:.2f}% match: {title} | {name} --> {common}\\n'\n",
    "\n",
    "for show in sorted(completed):\n",
    "    add = False\n",
    "    found = False\n",
    "    \n",
    "    for title in series:\n",
    "        if completed[show] in series[title].shows:\n",
    "            found = True\n",
    "            break\n",
    "    \n",
    "    if not found:\n",
    "        print(f'Inserting: {color.BOLD}{show}{color.END}')\n",
    "        for title in series:\n",
    "            matches, percent, common = percentMatch(show, title)\n",
    "\n",
    "            if percent > 0.6 and matches > 5:\n",
    "                add = True\n",
    "                print(fmtString(1, percent, matches, title, show, common))\n",
    "                break\n",
    "            elif percent > 0.45 or matches > 5:\n",
    "                if (show, title) in decisions:\n",
    "                    print(fmtString(2, percent, matches, title, show, common))\n",
    "                    add = decisions[(show, title)]        \n",
    "                else:\n",
    "                    choice = input(fmtString(3, percent, matches, title, show, common))\n",
    "                    if choice == \"y\" or choice == \"\":\n",
    "                        add = True\n",
    "\n",
    "                    decisions[(show, title)] = add\n",
    "\n",
    "                    if add:\n",
    "                        break\n",
    "\n",
    "        if add:\n",
    "            shows = set()\n",
    "            if common != show and common != title:\n",
    "                s1 = series.pop(show, None)\n",
    "                s2 = series.pop(title, None)\n",
    "                if s1 is not None:\n",
    "                    shows = shows.union(s1.shows)\n",
    "                if s2 is not None:\n",
    "                    shows = shows.union(s2.shows)\n",
    "\n",
    "                series[common] = Series(common, shows)\n",
    "            series[common].addShow(completed[show])\n",
    "        else:\n",
    "            series[show] = Series(show, {completed[show]})"
   ]
  },
  {
   "cell_type": "code",
   "execution_count": 36,
   "metadata": {
    "scrolled": false
   },
   "outputs": [
    {
     "data": {
      "text/plain": [
       "44"
      ]
     },
     "execution_count": 36,
     "metadata": {},
     "output_type": "execute_result"
    }
   ],
   "source": [
    "len(series)"
   ]
  },
  {
   "cell_type": "markdown",
   "metadata": {},
   "source": [
    "### Saving"
   ]
  },
  {
   "cell_type": "code",
   "execution_count": 52,
   "metadata": {},
   "outputs": [],
   "source": [
    "with open('./show_data/completed_shows.pkl', 'wb') as f:\n",
    "    pickle.dump(completed, f)\n",
    "    \n",
    "with open('./show_data/series.pkl', 'wb') as f:\n",
    "    pickle.dump(series, f)\n",
    "    \n",
    "with open('./show_data/decisions.pkl', 'wb') as f:\n",
    "    pickle.dump(decisions, f)"
   ]
  },
  {
   "cell_type": "code",
   "execution_count": null,
   "metadata": {},
   "outputs": [],
   "source": []
  }
 ],
 "metadata": {
  "kernelspec": {
   "display_name": "Python 3",
   "language": "python",
   "name": "python3"
  },
  "language_info": {
   "codemirror_mode": {
    "name": "ipython",
    "version": 3
   },
   "file_extension": ".py",
   "mimetype": "text/x-python",
   "name": "python",
   "nbconvert_exporter": "python",
   "pygments_lexer": "ipython3",
   "version": "3.8.6"
  }
 },
 "nbformat": 4,
 "nbformat_minor": 2
}
