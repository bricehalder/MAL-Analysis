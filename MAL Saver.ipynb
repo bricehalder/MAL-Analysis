{
 "cells": [
  {
   "cell_type": "markdown",
   "metadata": {},
   "source": [
    "### Loading\n"
   ]
  },
  {
   "cell_type": "code",
   "execution_count": 1,
   "metadata": {},
   "outputs": [],
   "source": [
    "from show import *\n",
    "from series import *\n",
    "from colors import color\n",
    "from operator import itemgetter, attrgetter"
   ]
  },
  {
   "cell_type": "code",
   "execution_count": 2,
   "metadata": {},
   "outputs": [],
   "source": [
    "import pickle\n",
    "completed = {}\n",
    "\n",
    "with open('./show_data/completed_shows.pkl', 'rb') as f:\n",
    "    completed = pickle.load(f)\n",
    "    \n",
    "with open('./show_data/series.pkl', 'rb') as f:\n",
    "    series = pickle.load(f)\n",
    "    \n",
    "with open('./show_data/decisions.pkl', 'rb') as f:\n",
    "    decisions = pickle.load(f)"
   ]
  },
  {
   "cell_type": "markdown",
   "metadata": {},
   "source": [
    "### Definitions"
   ]
  },
  {
   "cell_type": "code",
   "execution_count": 3,
   "metadata": {},
   "outputs": [],
   "source": [
    "def input_safe(txt):\n",
    "    try:\n",
    "        inp = float(input(txt))\n",
    "        if inp < 0 or inp > 10:\n",
    "            return \"error\"\n",
    "        else:\n",
    "            return inp\n",
    "    except:\n",
    "        print('Error')\n",
    "\n",
    "def create_show(name='', tp='TV'):\n",
    "    if len(name) == 0:\n",
    "        name = input(\"Name of Show: \").strip()\n",
    "    plot = float(input_safe(\"Story: \"))\n",
    "    characters = float(input_safe(\"Characters: \"))\n",
    "    art = float(input_safe(\"Art/Animation: \"))\n",
    "    music = float(input_safe(\"Sound: \"))\n",
    "    enjoy = float(input_safe(\"Personal Enjoyment: \"))\n",
    "    return Show(name, plot, characters, art, music, enjoy, tp)\n",
    "\n",
    "def create_movie(name=''):\n",
    "    return create_show(name, 'Movie')\n",
    "\n",
    "def add_show(show):\n",
    "    old = completed.pop(show.name, None)\n",
    "    if old:\n",
    "        show.set_type(old.get_type())\n",
    "    completed[show.name] = show\n",
    "    \n",
    "    for title in series:\n",
    "        shows = series[title].shows\n",
    "        if show in shows:\n",
    "            series[title].addShow(show)\n",
    "            break"
   ]
  },
  {
   "cell_type": "markdown",
   "metadata": {},
   "source": [
    "### Make/Update Show Entries"
   ]
  },
  {
   "cell_type": "code",
   "execution_count": 4,
   "metadata": {},
   "outputs": [
    {
     "ename": "KeyboardInterrupt",
     "evalue": "Interrupted by user",
     "output_type": "error",
     "traceback": [
      "\u001b[0;31m---------------------------------------------------------------------------\u001b[0m",
      "\u001b[0;31mKeyboardInterrupt\u001b[0m                         Traceback (most recent call last)",
      "Cell \u001b[0;32mIn[4], line 35\u001b[0m\n\u001b[1;32m     32\u001b[0m         \u001b[38;5;28;01mif\u001b[39;00m \u001b[38;5;129;01mnot\u001b[39;00m shows:\n\u001b[1;32m     33\u001b[0m             ans \u001b[38;5;241m=\u001b[39m \u001b[38;5;28minput\u001b[39m(\u001b[38;5;124m'\u001b[39m\u001b[38;5;130;01m\\n\u001b[39;00m\u001b[38;5;124mAdd another? (y/n/edit): \u001b[39m\u001b[38;5;124m'\u001b[39m)\n\u001b[0;32m---> 35\u001b[0m ans \u001b[38;5;241m=\u001b[39m \u001b[38;5;28;43minput\u001b[39;49m\u001b[43m(\u001b[49m\u001b[38;5;124;43m'\u001b[39;49m\u001b[38;5;124;43mEnter name of show on MAL: \u001b[39;49m\u001b[38;5;124;43m'\u001b[39;49m\u001b[43m)\u001b[49m\n\u001b[1;32m     36\u001b[0m \u001b[38;5;66;03m# ans = ''\u001b[39;00m\n\u001b[1;32m     37\u001b[0m entries(ans\u001b[38;5;241m=\u001b[39mans)\n",
      "File \u001b[0;32m~/CODE/MAL-Analysis/env/lib/python3.8/site-packages/ipykernel/kernelbase.py:1202\u001b[0m, in \u001b[0;36mKernel.raw_input\u001b[0;34m(self, prompt)\u001b[0m\n\u001b[1;32m   1200\u001b[0m     msg \u001b[38;5;241m=\u001b[39m \u001b[38;5;124m\"\u001b[39m\u001b[38;5;124mraw_input was called, but this frontend does not support input requests.\u001b[39m\u001b[38;5;124m\"\u001b[39m\n\u001b[1;32m   1201\u001b[0m     \u001b[38;5;28;01mraise\u001b[39;00m StdinNotImplementedError(msg)\n\u001b[0;32m-> 1202\u001b[0m \u001b[38;5;28;01mreturn\u001b[39;00m \u001b[38;5;28;43mself\u001b[39;49m\u001b[38;5;241;43m.\u001b[39;49m\u001b[43m_input_request\u001b[49m\u001b[43m(\u001b[49m\n\u001b[1;32m   1203\u001b[0m \u001b[43m    \u001b[49m\u001b[38;5;28;43mstr\u001b[39;49m\u001b[43m(\u001b[49m\u001b[43mprompt\u001b[49m\u001b[43m)\u001b[49m\u001b[43m,\u001b[49m\n\u001b[1;32m   1204\u001b[0m \u001b[43m    \u001b[49m\u001b[38;5;28;43mself\u001b[39;49m\u001b[38;5;241;43m.\u001b[39;49m\u001b[43m_parent_ident\u001b[49m\u001b[43m[\u001b[49m\u001b[38;5;124;43m\"\u001b[39;49m\u001b[38;5;124;43mshell\u001b[39;49m\u001b[38;5;124;43m\"\u001b[39;49m\u001b[43m]\u001b[49m\u001b[43m,\u001b[49m\n\u001b[1;32m   1205\u001b[0m \u001b[43m    \u001b[49m\u001b[38;5;28;43mself\u001b[39;49m\u001b[38;5;241;43m.\u001b[39;49m\u001b[43mget_parent\u001b[49m\u001b[43m(\u001b[49m\u001b[38;5;124;43m\"\u001b[39;49m\u001b[38;5;124;43mshell\u001b[39;49m\u001b[38;5;124;43m\"\u001b[39;49m\u001b[43m)\u001b[49m\u001b[43m,\u001b[49m\n\u001b[1;32m   1206\u001b[0m \u001b[43m    \u001b[49m\u001b[43mpassword\u001b[49m\u001b[38;5;241;43m=\u001b[39;49m\u001b[38;5;28;43;01mFalse\u001b[39;49;00m\u001b[43m,\u001b[49m\n\u001b[1;32m   1207\u001b[0m \u001b[43m\u001b[49m\u001b[43m)\u001b[49m\n",
      "File \u001b[0;32m~/CODE/MAL-Analysis/env/lib/python3.8/site-packages/ipykernel/kernelbase.py:1245\u001b[0m, in \u001b[0;36mKernel._input_request\u001b[0;34m(self, prompt, ident, parent, password)\u001b[0m\n\u001b[1;32m   1242\u001b[0m \u001b[38;5;28;01mexcept\u001b[39;00m \u001b[38;5;167;01mKeyboardInterrupt\u001b[39;00m:\n\u001b[1;32m   1243\u001b[0m     \u001b[38;5;66;03m# re-raise KeyboardInterrupt, to truncate traceback\u001b[39;00m\n\u001b[1;32m   1244\u001b[0m     msg \u001b[38;5;241m=\u001b[39m \u001b[38;5;124m\"\u001b[39m\u001b[38;5;124mInterrupted by user\u001b[39m\u001b[38;5;124m\"\u001b[39m\n\u001b[0;32m-> 1245\u001b[0m     \u001b[38;5;28;01mraise\u001b[39;00m \u001b[38;5;167;01mKeyboardInterrupt\u001b[39;00m(msg) \u001b[38;5;28;01mfrom\u001b[39;00m \u001b[38;5;28;01mNone\u001b[39;00m\n\u001b[1;32m   1246\u001b[0m \u001b[38;5;28;01mexcept\u001b[39;00m \u001b[38;5;167;01mException\u001b[39;00m:\n\u001b[1;32m   1247\u001b[0m     \u001b[38;5;28mself\u001b[39m\u001b[38;5;241m.\u001b[39mlog\u001b[38;5;241m.\u001b[39mwarning(\u001b[38;5;124m\"\u001b[39m\u001b[38;5;124mInvalid Message:\u001b[39m\u001b[38;5;124m\"\u001b[39m, exc_info\u001b[38;5;241m=\u001b[39m\u001b[38;5;28;01mTrue\u001b[39;00m)\n",
      "\u001b[0;31mKeyboardInterrupt\u001b[0m: Interrupted by user"
     ]
    }
   ],
   "source": [
    "def entries(shows=[], ans=''):\n",
    "    header_shown = False\n",
    "    while shows or ans == 'y' or len(ans) >= 2:\n",
    "        if shows:\n",
    "            name = shows.pop(0)\n",
    "        elif ans != 'edit':    \n",
    "            name = ans\n",
    "            header_shown = False\n",
    "\n",
    "        name = name.strip()\n",
    "\n",
    "        if len(name) > 0 :\n",
    "            if name in completed:\n",
    "                print(f'{color.BOLD}Current Entry:{color.END}')\n",
    "                if not header_shown:\n",
    "                    print(header())\n",
    "                    header_shown = True\n",
    "                print(str(completed[name]))\n",
    "                \n",
    "            try:\n",
    "                x = create_show(name) # change to create_movie to add movie\n",
    "                print(f'{color.BOLD}Updated Entry:{color.END}')\n",
    "                print(str(x))\n",
    "                add_show(x)\n",
    "            except TypeError as t_e:\n",
    "                print()\n",
    "        else:\n",
    "            if len(name) == 0:\n",
    "                print('err: no name entered')\n",
    "                break\n",
    "        \n",
    "        if not shows:\n",
    "            ans = input('\\nAdd another? (y/n/edit): ')\n",
    "                        \n",
    "ans = input('Enter name of show on MAL: ')\n",
    "# ans = ''\n",
    "entries(ans=ans)"
   ]
  },
  {
   "cell_type": "markdown",
   "metadata": {},
   "source": [
    "### Update entries by series"
   ]
  },
  {
   "cell_type": "code",
   "execution_count": 8,
   "metadata": {},
   "outputs": [
    {
     "name": "stdin",
     "output_type": "stream",
     "text": [
      "Enter name of series:  86\n"
     ]
    }
   ],
   "source": [
    "s = input('Enter name of series: ')"
   ]
  },
  {
   "cell_type": "code",
   "execution_count": 10,
   "metadata": {},
   "outputs": [
    {
     "name": "stdout",
     "output_type": "stream",
     "text": [
      "86                                      9           8           9           10          10          \u001b[91m8.9         \u001b[92m9           \u001b[0m\n",
      "\n",
      "\u001b[1mCurrent Entry:\u001b[0m\n",
      "\u001b[1mNAME                                    STORY       CHARACTERS  VISUALS     SOUND       ENJOYMENT   \u001b[91mRAW       \u001b[94mOVERALL     \u001b[0m\n",
      "86                                      9           8           9           10          10          \u001b[91m8.9         \u001b[92m9           \u001b[0m\n",
      "Error\n",
      "\n"
     ]
    },
    {
     "ename": "KeyboardInterrupt",
     "evalue": "Interrupted by user",
     "output_type": "error",
     "traceback": [
      "\u001b[0;31m---------------------------------------------------------------------------\u001b[0m",
      "\u001b[0;31mKeyboardInterrupt\u001b[0m                         Traceback (most recent call last)",
      "Cell \u001b[0;32mIn[10], line 5\u001b[0m\n\u001b[1;32m      3\u001b[0m     \u001b[38;5;28mprint\u001b[39m(show)\n\u001b[1;32m      4\u001b[0m \u001b[38;5;28mprint\u001b[39m()\n\u001b[0;32m----> 5\u001b[0m \u001b[43mentries\u001b[49m\u001b[43m(\u001b[49m\u001b[43mseries\u001b[49m\u001b[43m[\u001b[49m\u001b[43ms\u001b[49m\u001b[43m]\u001b[49m\u001b[38;5;241;43m.\u001b[39;49m\u001b[43mgetShows\u001b[49m\u001b[43m(\u001b[49m\u001b[43m)\u001b[49m\u001b[43m)\u001b[49m\n\u001b[1;32m      6\u001b[0m \u001b[38;5;28mprint\u001b[39m()\n\u001b[1;32m      7\u001b[0m \u001b[38;5;28mprint\u001b[39m(header())\n",
      "Cell \u001b[0;32mIn[4], line 33\u001b[0m, in \u001b[0;36mentries\u001b[0;34m(shows, ans)\u001b[0m\n\u001b[1;32m     30\u001b[0m         \u001b[38;5;28;01mbreak\u001b[39;00m\n\u001b[1;32m     32\u001b[0m \u001b[38;5;28;01mif\u001b[39;00m \u001b[38;5;129;01mnot\u001b[39;00m shows:\n\u001b[0;32m---> 33\u001b[0m     ans \u001b[38;5;241m=\u001b[39m \u001b[38;5;28;43minput\u001b[39;49m\u001b[43m(\u001b[49m\u001b[38;5;124;43m'\u001b[39;49m\u001b[38;5;130;43;01m\\n\u001b[39;49;00m\u001b[38;5;124;43mAdd another? (y/n/edit): \u001b[39;49m\u001b[38;5;124;43m'\u001b[39;49m\u001b[43m)\u001b[49m\n",
      "File \u001b[0;32m~/CODE/MAL-Analysis/env/lib/python3.8/site-packages/ipykernel/kernelbase.py:1202\u001b[0m, in \u001b[0;36mKernel.raw_input\u001b[0;34m(self, prompt)\u001b[0m\n\u001b[1;32m   1200\u001b[0m     msg \u001b[38;5;241m=\u001b[39m \u001b[38;5;124m\"\u001b[39m\u001b[38;5;124mraw_input was called, but this frontend does not support input requests.\u001b[39m\u001b[38;5;124m\"\u001b[39m\n\u001b[1;32m   1201\u001b[0m     \u001b[38;5;28;01mraise\u001b[39;00m StdinNotImplementedError(msg)\n\u001b[0;32m-> 1202\u001b[0m \u001b[38;5;28;01mreturn\u001b[39;00m \u001b[38;5;28;43mself\u001b[39;49m\u001b[38;5;241;43m.\u001b[39;49m\u001b[43m_input_request\u001b[49m\u001b[43m(\u001b[49m\n\u001b[1;32m   1203\u001b[0m \u001b[43m    \u001b[49m\u001b[38;5;28;43mstr\u001b[39;49m\u001b[43m(\u001b[49m\u001b[43mprompt\u001b[49m\u001b[43m)\u001b[49m\u001b[43m,\u001b[49m\n\u001b[1;32m   1204\u001b[0m \u001b[43m    \u001b[49m\u001b[38;5;28;43mself\u001b[39;49m\u001b[38;5;241;43m.\u001b[39;49m\u001b[43m_parent_ident\u001b[49m\u001b[43m[\u001b[49m\u001b[38;5;124;43m\"\u001b[39;49m\u001b[38;5;124;43mshell\u001b[39;49m\u001b[38;5;124;43m\"\u001b[39;49m\u001b[43m]\u001b[49m\u001b[43m,\u001b[49m\n\u001b[1;32m   1205\u001b[0m \u001b[43m    \u001b[49m\u001b[38;5;28;43mself\u001b[39;49m\u001b[38;5;241;43m.\u001b[39;49m\u001b[43mget_parent\u001b[49m\u001b[43m(\u001b[49m\u001b[38;5;124;43m\"\u001b[39;49m\u001b[38;5;124;43mshell\u001b[39;49m\u001b[38;5;124;43m\"\u001b[39;49m\u001b[43m)\u001b[49m\u001b[43m,\u001b[49m\n\u001b[1;32m   1206\u001b[0m \u001b[43m    \u001b[49m\u001b[43mpassword\u001b[49m\u001b[38;5;241;43m=\u001b[39;49m\u001b[38;5;28;43;01mFalse\u001b[39;49;00m\u001b[43m,\u001b[49m\n\u001b[1;32m   1207\u001b[0m \u001b[43m\u001b[49m\u001b[43m)\u001b[49m\n",
      "File \u001b[0;32m~/CODE/MAL-Analysis/env/lib/python3.8/site-packages/ipykernel/kernelbase.py:1245\u001b[0m, in \u001b[0;36mKernel._input_request\u001b[0;34m(self, prompt, ident, parent, password)\u001b[0m\n\u001b[1;32m   1242\u001b[0m \u001b[38;5;28;01mexcept\u001b[39;00m \u001b[38;5;167;01mKeyboardInterrupt\u001b[39;00m:\n\u001b[1;32m   1243\u001b[0m     \u001b[38;5;66;03m# re-raise KeyboardInterrupt, to truncate traceback\u001b[39;00m\n\u001b[1;32m   1244\u001b[0m     msg \u001b[38;5;241m=\u001b[39m \u001b[38;5;124m\"\u001b[39m\u001b[38;5;124mInterrupted by user\u001b[39m\u001b[38;5;124m\"\u001b[39m\n\u001b[0;32m-> 1245\u001b[0m     \u001b[38;5;28;01mraise\u001b[39;00m \u001b[38;5;167;01mKeyboardInterrupt\u001b[39;00m(msg) \u001b[38;5;28;01mfrom\u001b[39;00m \u001b[38;5;28;01mNone\u001b[39;00m\n\u001b[1;32m   1246\u001b[0m \u001b[38;5;28;01mexcept\u001b[39;00m \u001b[38;5;167;01mException\u001b[39;00m:\n\u001b[1;32m   1247\u001b[0m     \u001b[38;5;28mself\u001b[39m\u001b[38;5;241m.\u001b[39mlog\u001b[38;5;241m.\u001b[39mwarning(\u001b[38;5;124m\"\u001b[39m\u001b[38;5;124mInvalid Message:\u001b[39m\u001b[38;5;124m\"\u001b[39m, exc_info\u001b[38;5;241m=\u001b[39m\u001b[38;5;28;01mTrue\u001b[39;00m)\n",
      "\u001b[0;31mKeyboardInterrupt\u001b[0m: Interrupted by user"
     ]
    },
    {
     "name": "stdin",
     "output_type": "stream",
     "text": [
      "\n",
      "Add another? (y/n/edit):  n\n",
      "Story:  \n"
     ]
    }
   ],
   "source": [
    "if s in series:\n",
    "    for show in sorted(series[s].shows):\n",
    "        print(show)\n",
    "    print()\n",
    "    entries(series[s].getShows())\n",
    "    print()\n",
    "    print(header())\n",
    "    print(series[s])\n",
    "else:\n",
    "    print('Series not found')"
   ]
  },
  {
   "cell_type": "code",
   "execution_count": 11,
   "metadata": {},
   "outputs": [
    {
     "data": {
      "text/plain": [
       "(['86',\n",
       "  'Akame ga Kill!',\n",
       "  'Ao no Exorcist',\n",
       "  'Boku dake ga Inai Machi',\n",
       "  'Boku no Hero Academia',\n",
       "  'Boku no Hero Academia 2nd Season',\n",
       "  'Boku no Hero Academia 3rd Season',\n",
       "  'Boku no Hero Academia 4th Season',\n",
       "  'Code Geass: Hangyaku no Lelouch',\n",
       "  'Code Geass: Hangyaku no Lelouch R2',\n",
       "  'Darling in the FranXX',\n",
       "  'Death Note',\n",
       "  'Enen no Shouboutai',\n",
       "  'Enen no Shouboutai: Ni no Shou',\n",
       "  'Fate/Zero',\n",
       "  'Fate/Zero 2nd Season',\n",
       "  \"Fate/stay night Movie: Heaven's Feel - I. Presage Flower\",\n",
       "  'Fate/stay night: Unlimited Blade Works',\n",
       "  'Fate/stay night: Unlimited Blade Works 2nd Season',\n",
       "  'Fruits Basket 1st Season',\n",
       "  'Fruits Basket 2nd Season',\n",
       "  'Fruits Basket: The Final',\n",
       "  'Fullmetal Alchemist: Brotherhood',\n",
       "  'Given',\n",
       "  'Haikyuu!!',\n",
       "  'Haikyuu!! Second Season',\n",
       "  'Haikyuu!!: Karasuno Koukou vs. Shiratorizawa Gakuen Koukou',\n",
       "  'Haikyuu!!: To the Top',\n",
       "  'Haikyuu!!: To the Top 2nd Season',\n",
       "  'Hunter x Hunter (2011)',\n",
       "  'Jujutsu Kaisen',\n",
       "  'Kanojo, Okarishimasu',\n",
       "  'Kaze ga Tsuyoku Fuiteiru',\n",
       "  'Kill la Kill',\n",
       "  'Kimetsu no Yaiba',\n",
       "  'Kimi no Na wa.',\n",
       "  'Kiznaiver',\n",
       "  'Kono Subarashii Sekai ni Shukufuku wo!',\n",
       "  'Koutetsujou no Kabaneri',\n",
       "  'Mahou Shoujo Madoka★Magica',\n",
       "  'Nisekoi',\n",
       "  'Nisekoi:',\n",
       "  'No Game No Life',\n",
       "  'One Punch Man',\n",
       "  'One Punch Man 2nd Season',\n",
       "  'Re:Zero kara Hajimeru Isekai Seikatsu',\n",
       "  'Re:Zero kara Hajimeru Isekai Seikatsu 2nd Season',\n",
       "  'Saenai Heroine no Sodatekata',\n",
       "  'Seishun Buta Yarou wa Bunny Girl Senpai no Yume wo Minai',\n",
       "  'Seitokai Yakuindomo',\n",
       "  'Seitokai Yakuindomo*',\n",
       "  'Shigatsu wa Kimi no Uso',\n",
       "  'Shingeki no Bahamut: Genesis',\n",
       "  'Shingeki no Kyojin',\n",
       "  'Shingeki no Kyojin Season 2',\n",
       "  'Shingeki no Kyojin Season 3',\n",
       "  'Shingeki no Kyojin Season 3 Part 2',\n",
       "  'Shingeki no Kyojin: The Final Season',\n",
       "  'Shokugeki no Souma',\n",
       "  'Shokugeki no Souma: Gou no Sara',\n",
       "  'Shokugeki no Souma: Ni no Sara',\n",
       "  'Shokugeki no Souma: San no Sara',\n",
       "  'Shokugeki no Souma: Shin no Sara',\n",
       "  'Steins;Gate',\n",
       "  'Steins;Gate 0',\n",
       "  'Sword Art Online',\n",
       "  'Tengen Toppa Gurren Lagann',\n",
       "  'Tokyo Ghoul',\n",
       "  'Tokyo Ghoul √A',\n",
       "  'Tokyo Ghoul:re',\n",
       "  'Tonikaku Kawaii',\n",
       "  \"Vivy: Fluorite Eye's Song\"],\n",
       " 72)"
      ]
     },
     "execution_count": 11,
     "metadata": {},
     "output_type": "execute_result"
    }
   ],
   "source": [
    "sorted(completed), len(completed)"
   ]
  },
  {
   "cell_type": "code",
   "execution_count": 12,
   "metadata": {},
   "outputs": [],
   "source": [
    "def percentMatch(show, title):\n",
    "    matches = 0\n",
    "    common = ''\n",
    "    thresh = 8\n",
    "        \n",
    "    for i in range(len(show)):\n",
    "        if i >= len(title):\n",
    "            break\n",
    "        \n",
    "        if title[i] == show[i]:\n",
    "            matches += 1\n",
    "            common += title[i]\n",
    "        else:\n",
    "            break\n",
    "    \n",
    "#     if matches > thresh:\n",
    "#         return matches, 1, common\n",
    "    \n",
    "    return matches, matches / max(len(show), len(title)), common.strip()"
   ]
  },
  {
   "cell_type": "markdown",
   "metadata": {},
   "source": [
    "### Make Series - assisted string matching"
   ]
  },
  {
   "cell_type": "code",
   "execution_count": 50,
   "metadata": {},
   "outputs": [],
   "source": [
    "# series = {}\n",
    "def fmtString(num, percent, matches, title, name, common):\n",
    "    return f'({str(num)}){percent*100:.2f}% match: {title} | {name} --> {common}\\n'\n",
    "\n",
    "for show in sorted(completed):\n",
    "    add = False\n",
    "    found = False\n",
    "    \n",
    "    for title in series:\n",
    "        if completed[show] in series[title].shows:\n",
    "            found = True\n",
    "            break\n",
    "    \n",
    "    if not found:\n",
    "        print(f'Inserting: {color.BOLD}{show}{color.END}')\n",
    "        for title in series:\n",
    "            matches, percent, common = percentMatch(show, title)\n",
    "\n",
    "            if percent > 0.6 and matches > 5:\n",
    "                add = True\n",
    "                print(fmtString(1, percent, matches, title, show, common))\n",
    "                break\n",
    "            elif percent > 0.45 or matches > 5:\n",
    "                if (show, title) in decisions:\n",
    "                    print(fmtString(2, percent, matches, title, show, common))\n",
    "                    add = decisions[(show, title)]        \n",
    "                else:\n",
    "                    choice = input(fmtString(3, percent, matches, title, show, common))\n",
    "                    if choice == \"y\" or choice == \"\":\n",
    "                        add = True\n",
    "\n",
    "                    decisions[(show, title)] = add\n",
    "\n",
    "                    if add:\n",
    "                        break\n",
    "\n",
    "        if add:\n",
    "            shows = set()\n",
    "            if common != show and common != title:\n",
    "                s1 = series.pop(show, None)\n",
    "                s2 = series.pop(title, None)\n",
    "                if s1 is not None:\n",
    "                    shows = shows.union(s1.shows)\n",
    "                if s2 is not None:\n",
    "                    shows = shows.union(s2.shows)\n",
    "\n",
    "                series[common] = Series(common, shows)\n",
    "            series[common].addShow(completed[show])\n",
    "        else:\n",
    "            series[show] = Series(show, {completed[show]})"
   ]
  },
  {
   "cell_type": "code",
   "execution_count": 51,
   "metadata": {},
   "outputs": [
    {
     "data": {
      "text/plain": [
       "(['86',\n",
       "  'Akame ga Kill!',\n",
       "  'Ao no Exorcist',\n",
       "  'Boku dake ga Inai Machi',\n",
       "  'Boku no Hero Academia',\n",
       "  'Code Geass: Hangyaku no Lelouch',\n",
       "  'Darling in the FranXX',\n",
       "  'Death Note',\n",
       "  'Enen no Shouboutai',\n",
       "  'Fate/Zero',\n",
       "  \"Fate/stay night Movie: Heaven's Feel - I. Presage Flower\",\n",
       "  'Fate/stay night: Unlimited Blade Works',\n",
       "  'Fruits Basket',\n",
       "  'Fullmetal Alchemist: Brotherhood',\n",
       "  'Given',\n",
       "  'Haikyuu!!',\n",
       "  'Hunter x Hunter (2011)',\n",
       "  'Jujutsu Kaisen',\n",
       "  'Kanojo, Okarishimasu',\n",
       "  'Kaze ga Tsuyoku Fuiteiru',\n",
       "  'Kill la Kill',\n",
       "  'Kimetsu no Yaiba',\n",
       "  'Kimi no Na wa.',\n",
       "  'Kiznaiver',\n",
       "  'Kono Subarashii Sekai ni Shukufuku wo!',\n",
       "  'Koutetsujou no Kabaneri',\n",
       "  'Mahou Shoujo Madoka★Magica',\n",
       "  'Nisekoi',\n",
       "  'No Game No Life',\n",
       "  'One Punch Man',\n",
       "  'Re:Zero kara Hajimeru Isekai Seikatsu',\n",
       "  'Saenai Heroine no Sodatekata',\n",
       "  'Seishun Buta Yarou wa Bunny Girl Senpai no Yume wo Minai',\n",
       "  'Seitokai Yakuindomo',\n",
       "  'Shigatsu wa Kimi no Uso',\n",
       "  'Shingeki no Bahamut: Genesis',\n",
       "  'Shingeki no Kyojin',\n",
       "  'Shokugeki no Souma',\n",
       "  'Steins;Gate',\n",
       "  'Sword Art Online',\n",
       "  'Tengen Toppa Gurren Lagann',\n",
       "  'Tokyo Ghoul',\n",
       "  'Tonikaku Kawaii',\n",
       "  \"Vivy: Fluorite Eye's Song\"],\n",
       " 44)"
      ]
     },
     "execution_count": 51,
     "metadata": {},
     "output_type": "execute_result"
    }
   ],
   "source": [
    "sorted(series), len(series)"
   ]
  },
  {
   "cell_type": "markdown",
   "metadata": {},
   "source": [
    "### Saving"
   ]
  },
  {
   "cell_type": "code",
   "execution_count": 60,
   "metadata": {},
   "outputs": [],
   "source": [
    "with open('./show_data/completed_shows.pkl', 'wb') as f:\n",
    "    pickle.dump(completed, f)\n",
    "    \n",
    "with open('./show_data/series.pkl', 'wb') as f:\n",
    "    pickle.dump(series, f)\n",
    "    \n",
    "with open('./show_data/decisions.pkl', 'wb') as f:\n",
    "    pickle.dump(decisions, f)"
   ]
  },
  {
   "cell_type": "code",
   "execution_count": null,
   "metadata": {},
   "outputs": [],
   "source": []
  }
 ],
 "metadata": {
  "kernelspec": {
   "display_name": "Python 3 (ipykernel)",
   "language": "python",
   "name": "python3"
  },
  "language_info": {
   "codemirror_mode": {
    "name": "ipython",
    "version": 3
   },
   "file_extension": ".py",
   "mimetype": "text/x-python",
   "name": "python",
   "nbconvert_exporter": "python",
   "pygments_lexer": "ipython3",
   "version": "3.8.9"
  }
 },
 "nbformat": 4,
 "nbformat_minor": 4
}
