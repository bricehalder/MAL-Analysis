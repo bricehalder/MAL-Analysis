{
 "cells": [
  {
   "cell_type": "code",
   "execution_count": 15,
   "metadata": {},
   "outputs": [
    {
     "name": "stdout",
     "output_type": "stream",
     "text": [
      "   1 Kyoujurou Rengoku        \n",
      "   2 Tengen Uzui              \n",
      "   3 Muichiro Tokito          \n",
      "   4 Shinobu Kochou           \n",
      "   5 Mitsuri Kanroji          \n",
      "\n",
      "   6 Obanai Iguro             \n",
      "   7 Gyomei Himejima          \n",
      "   8 Giyuu Tomioka            \n",
      "   9 Sanemi Shinazugawa       \n"
     ]
    }
   ],
   "source": [
    "note = '''\n",
    "1. Kyoujurou Rengoku\n",
    "2. Tengen Uzui\n",
    "3. Muichiro Tokito\n",
    "4. Shinobu Kochou\n",
    "5. Mitsuri Kanroji \n",
    "6. Obanai Iguro\n",
    "7. Gyomei Himejima\n",
    "8. Giyuu Tomioka\n",
    "9. Sanemi Shinazugawa\n",
    "'''\n",
    "name_list = []\n",
    "old_rank_dict = {}\n",
    "char_show = {}\n",
    "\n",
    "show = False \n",
    "\n",
    "for line in note.split('\\n'):\n",
    "    if not len(line):\n",
    "        continue\n",
    "    rank = line.split('.')[0]\n",
    "    numWidth = len(rank)\n",
    "    line = line[numWidth + 1:]\n",
    "\n",
    "    if show:\n",
    "        name, show = line.split('-')\n",
    "    else:\n",
    "        name = line\n",
    "    name_list.append(name.strip())\n",
    "\n",
    "    if show:\n",
    "        print(f'{int(rank):4} {name.strip():25} {show}')\n",
    "    else:\n",
    "        print(f'{int(rank):4} {name.strip():25}')\n",
    "        \n",
    "    old_rank_dict[name.strip()] = int(rank.strip())\n",
    "    if show:\n",
    "        char_show[name.strip()] = show.strip()\n",
    "#     print(name)\n",
    "    if int(rank) % 5 == 0:\n",
    "        print()\n",
    "\n",
    "    "
   ]
  },
  {
   "cell_type": "code",
   "execution_count": 29,
   "metadata": {},
   "outputs": [
    {
     "name": "stdout",
     "output_type": "stream",
     "text": [
      "ARE YOU SURE YOU WANT TO RESET CURRENT SORT?yes\n"
     ]
    }
   ],
   "source": [
    "sure = input('ARE YOU SURE YOU WANT TO RESET CURRENT SORT?')\n",
    "if sure == 'yes':\n",
    "    test_list = ['chizuru', 'akame', 'shiro', 'cc', 'jibril']\n",
    "    points = {}\n",
    "    test_pts = {}\n",
    "\n",
    "    comparisons = set()\n",
    "    \n",
    "    total_comp = 0\n",
    "    print_pct = 0"
   ]
  },
  {
   "cell_type": "code",
   "execution_count": 30,
   "metadata": {},
   "outputs": [
    {
     "name": "stdout",
     "output_type": "stream",
     "text": [
      "ARE YOU SURE YOU WANT TO RESET CURRENT SORT?yes\n",
      "36\n"
     ]
    }
   ],
   "source": [
    "sure = input('ARE YOU SURE YOU WANT TO RESET CURRENT SORT?')\n",
    "if sure == 'yes':\n",
    "    count_comp = set()\n",
    "\n",
    "    for name in name_list:\n",
    "        points[name] = 0\n",
    "        \n",
    "        for other_name in name_list:\n",
    "            if name == other_name:\n",
    "                continue\n",
    "            \n",
    "            comp = frozenset({name, other_name})\n",
    "            if comp in count_comp:\n",
    "                continue\n",
    "\n",
    "            count_comp.add(comp) \n",
    "\n",
    "    print(len(count_comp))"
   ]
  },
  {
   "cell_type": "code",
   "execution_count": 33,
   "metadata": {},
   "outputs": [
    {
     "name": "stdout",
     "output_type": "stream",
     "text": [
      "Enter 1 or 2 to choose side! Anything else for tie.\n",
      "               Gyomei Himejima vs Sanemi Shinazugawa\n",
      "1\n",
      "               Muichiro Tokito vs Kyoujurou Rengoku\n",
      "1\n",
      "               Mitsuri Kanroji vs Shinobu Kochou\n",
      "1\n",
      "                Shinobu Kochou vs Gyomei Himejima\n",
      "1\n",
      "                  Obanai Iguro vs Sanemi Shinazugawa\n",
      "1\n",
      "25% completed!\n",
      "               Mitsuri Kanroji vs Giyuu Tomioka\n",
      "1\n",
      "               Gyomei Himejima vs Giyuu Tomioka\n",
      "1\n",
      "30% completed!\n",
      "                  Obanai Iguro vs Kyoujurou Rengoku\n",
      "1\n",
      "               Gyomei Himejima vs Tengen Uzui\n",
      "1\n",
      "               Mitsuri Kanroji vs Tengen Uzui\n",
      "1\n",
      "                 Giyuu Tomioka vs Tengen Uzui\n",
      "1\n",
      "                Shinobu Kochou vs Tengen Uzui\n",
      "1\n",
      "                Shinobu Kochou vs Giyuu Tomioka\n",
      "1\n",
      "               Mitsuri Kanroji vs Kyoujurou Rengoku\n",
      "1\n",
      "50% completed!\n",
      "               Gyomei Himejima vs Kyoujurou Rengoku\n",
      "1\n",
      "               Muichiro Tokito vs Tengen Uzui\n",
      "1\n",
      "55% completed!\n",
      "               Mitsuri Kanroji vs Obanai Iguro\n",
      "1\n",
      "                  Obanai Iguro vs Gyomei Himejima\n",
      "1\n",
      "                  Obanai Iguro vs Muichiro Tokito\n",
      "1\n",
      "             Kyoujurou Rengoku vs Giyuu Tomioka\n",
      "1\n",
      "               Muichiro Tokito vs Shinobu Kochou\n",
      "1\n",
      "                  Obanai Iguro vs Tengen Uzui\n",
      "1\n",
      "               Mitsuri Kanroji vs Muichiro Tokito\n",
      "1\n",
      "75% completed!\n",
      "               Muichiro Tokito vs Gyomei Himejima\n",
      "1\n",
      "               Mitsuri Kanroji vs Gyomei Himejima\n",
      "1\n",
      "80% completed!\n",
      "                  Obanai Iguro vs Shinobu Kochou\n",
      "1\n",
      "                Shinobu Kochou vs Sanemi Shinazugawa\n",
      "1\n",
      "             Kyoujurou Rengoku vs Tengen Uzui\n",
      "1\n",
      "            Sanemi Shinazugawa vs Tengen Uzui\n",
      "1\n",
      "               Muichiro Tokito vs Giyuu Tomioka\n",
      "1\n",
      "                 Giyuu Tomioka vs Sanemi Shinazugawa\n",
      "1\n",
      "                  Obanai Iguro vs Giyuu Tomioka\n",
      "1\n",
      "100% completed!\n",
      "break ties? yes or no1\n",
      "100% completed!\n"
     ]
    }
   ],
   "source": [
    "show_pts = False\n",
    "ties_allowed = True\n",
    "\n",
    "print('Enter 1 or 2 to choose side! Anything else for tie.')\n",
    "for comp in count_comp:\n",
    "    if comp in comparisons:\n",
    "        continue\n",
    "    \n",
    "    comp_l = list(comp)\n",
    "    name = comp_l[0]\n",
    "    other_name = comp_l[1]\n",
    "    \n",
    "    name_pts = points[name] if name in points else 0\n",
    "    other_pts = points[other_name] if other_name in points else 0\n",
    "    \n",
    "    if abs(name_pts - other_pts) >= 5:\n",
    "        comparisons.add(comp)\n",
    "        if show_pts:\n",
    "            print(f'skipped {name}({name_pts}) vs {other_name}({other_pts})\\n')\n",
    "        points[name if name_pts > other_pts else other_name] += 1\n",
    "        continue\n",
    "\n",
    "    if show_pts:\n",
    "        name_pts = '{} ({})'.format(name.strip(), name_pts)\n",
    "        other_pts = '{} ({})'.format(other_name.strip(), other_pts)\n",
    "        print(f'{name_pts:>30} vs {other_pts}')\n",
    "    else:\n",
    "        print(f'{name.strip():>30} vs {other_name.strip()}')\n",
    "    \n",
    "    choice = int(input())\n",
    "    if not ties_allowed:\n",
    "        while choice != 1 or choice != 2:\n",
    "            choice = int(input())\n",
    "    \n",
    "    key = name if choice == 1 else other_name\n",
    "\n",
    "    points[key] = points[key] + 1 if key in points else 1\n",
    "    \n",
    "    if ties_allowed:\n",
    "        if choice != 1 and choice != 2:\n",
    "            points[name] = points[name] + 1 if name in points else 1\n",
    "\n",
    "    comparisons.add(comp)\n",
    "    total_comp += 1\n",
    "\n",
    "    percent = int((len(comparisons) / len(count_comp)) * 100)\n",
    "    if (percent > print_pct and percent % 5 == 0):\n",
    "        print_pct += 5\n",
    "        print(f'{percent}% completed!')\n",
    "\n",
    "break_t = input('break ties? yes or no')\n",
    "if break_t == 'yes':\n",
    "    while len(set(points.values())) != len(points.values()):\n",
    "        for name in points:\n",
    "            for other_name in points:\n",
    "                if name == other_name:\n",
    "                    continue\n",
    "\n",
    "                if points[name] == points[other_name]:\n",
    "                    print(f'{name.strip():>30} vs {other_name.strip()}')\n",
    "\n",
    "                    choice = int(input())\n",
    "                    while choice != 1 and choice != 2:\n",
    "                        print('TIEBREAKER: Enter 1 or 2!')\n",
    "                        choice = int(input())\n",
    "\n",
    "                    key = name if choice == 2 else other_name\n",
    "                    points[key] -= 0.1\n",
    "\n",
    "                    total_comp += 1\n",
    "            \n",
    "        \n",
    "print('100% completed!')"
   ]
  },
  {
   "cell_type": "code",
   "execution_count": 34,
   "metadata": {},
   "outputs": [
    {
     "name": "stdout",
     "output_type": "stream",
     "text": [
      "   1 Mitsuri Kanroji          \n",
      "   2 Obanai Iguro             \n",
      "   3 Muichiro Tokito          \n",
      "   4 Shinobu Kochou           \n",
      "   5 Gyomei Himejima          \n",
      "   6 Kyoujurou Rengoku        \n",
      "   7 Giyuu Tomioka            \n",
      "   8 Sanemi Shinazugawa       \n",
      "   9 Tengen Uzui              \n",
      "Total comparisons: 36\n"
     ]
    }
   ],
   "source": [
    "sorted_dict = {k: v for k, v in sorted(points.items(), key=lambda item: -item[1])} \n",
    "new_rank_dict = {}\n",
    "\n",
    "rank = 0\n",
    "lines = 0\n",
    "last_val = 99\n",
    "\n",
    "total_lines = len(sorted_dict)\n",
    "\n",
    "for name in sorted_dict:\n",
    "    lines += 1\n",
    "    if int(sorted_dict[name]) < last_val:\n",
    "        rank += 1\n",
    "        last_val = sorted_dict[name]\n",
    "    print(f'{rank:4} {name.strip():25}') # {sorted_dict[name]}')\n",
    "    new_rank_dict[name.strip()] = rank\n",
    "    if total_lines >= 15:\n",
    "        if lines % 5 == 0:\n",
    "            print()\n",
    "    \n",
    "print(f'Total comparisons: {total_comp}')"
   ]
  },
  {
   "cell_type": "code",
   "execution_count": 264,
   "metadata": {},
   "outputs": [],
   "source": [
    "#points[' Matoi Ryuuko '] = 2"
   ]
  },
  {
   "cell_type": "code",
   "execution_count": 21,
   "metadata": {},
   "outputs": [
    {
     "ename": "KeyError",
     "evalue": "'Shinobu Kochou'",
     "output_type": "error",
     "traceback": [
      "\u001b[0;31m---------------------------------------------------------------------------\u001b[0m",
      "\u001b[0;31mKeyError\u001b[0m                                  Traceback (most recent call last)",
      "\u001b[0;32m<ipython-input-21-5d1e1fddb30a>\u001b[0m in \u001b[0;36m<module>\u001b[0;34m\u001b[0m\n\u001b[1;32m     18\u001b[0m         \u001b[0mcolor\u001b[0m \u001b[0;34m=\u001b[0m \u001b[0mbcolors\u001b[0m\u001b[0;34m.\u001b[0m\u001b[0mOKGREEN\u001b[0m \u001b[0;32mif\u001b[0m \u001b[0mdiff\u001b[0m \u001b[0;34m>\u001b[0m \u001b[0;36m0\u001b[0m \u001b[0;32melse\u001b[0m \u001b[0mbcolors\u001b[0m\u001b[0;34m.\u001b[0m\u001b[0mFAIL\u001b[0m\u001b[0;34m\u001b[0m\u001b[0;34m\u001b[0m\u001b[0m\n\u001b[1;32m     19\u001b[0m         \u001b[0mdiff_str\u001b[0m \u001b[0;34m=\u001b[0m \u001b[0;34m\"{}{:+}{:6}\"\u001b[0m\u001b[0;34m.\u001b[0m\u001b[0mformat\u001b[0m\u001b[0;34m(\u001b[0m\u001b[0mcolor\u001b[0m\u001b[0;34m,\u001b[0m \u001b[0mdiff\u001b[0m\u001b[0;34m,\u001b[0m \u001b[0mbcolors\u001b[0m\u001b[0;34m.\u001b[0m\u001b[0mENDC\u001b[0m\u001b[0;34m)\u001b[0m \u001b[0;32mif\u001b[0m \u001b[0mshow_diff\u001b[0m \u001b[0;32melse\u001b[0m \u001b[0;34m''\u001b[0m\u001b[0;34m\u001b[0m\u001b[0;34m\u001b[0m\u001b[0m\n\u001b[0;32m---> 20\u001b[0;31m     \u001b[0mprint\u001b[0m\u001b[0;34m(\u001b[0m\u001b[0;34mf'{diff_str:4}{new_rank_dict[name]:<3}{name:27}{char_show[name]}'\u001b[0m\u001b[0;34m)\u001b[0m\u001b[0;34m\u001b[0m\u001b[0;34m\u001b[0m\u001b[0m\n\u001b[0m\u001b[1;32m     21\u001b[0m     \u001b[0;32mif\u001b[0m \u001b[0mnew_rank_dict\u001b[0m\u001b[0;34m[\u001b[0m\u001b[0mname\u001b[0m\u001b[0;34m]\u001b[0m \u001b[0;34m%\u001b[0m \u001b[0;36m5\u001b[0m \u001b[0;34m==\u001b[0m \u001b[0;36m0\u001b[0m\u001b[0;34m:\u001b[0m\u001b[0;34m\u001b[0m\u001b[0;34m\u001b[0m\u001b[0m\n\u001b[1;32m     22\u001b[0m         \u001b[0mprint\u001b[0m\u001b[0;34m(\u001b[0m\u001b[0;34m)\u001b[0m\u001b[0;34m\u001b[0m\u001b[0;34m\u001b[0m\u001b[0m\n",
      "\u001b[0;31mKeyError\u001b[0m: 'Shinobu Kochou'"
     ]
    }
   ],
   "source": [
    "class bcolors:\n",
    "    HEADER = '\\033[95m'\n",
    "    OKBLUE = '\\033[94m'\n",
    "    OKCYAN = '\\033[96m'\n",
    "    OKGREEN = '\\033[92m'\n",
    "    WARNING = '\\033[93m'\n",
    "    FAIL = '\\033[91m'\n",
    "    ENDC = '\\033[0m'\n",
    "    BOLD = '\\033[1m'\n",
    "    UNDERLINE = '\\033[4m'\n",
    "\n",
    "show_diff = False\n",
    "\n",
    "for name in new_rank_dict:\n",
    "    diff = old_rank_dict[name] - new_rank_dict[name]\n",
    "    diff_str = ''\n",
    "    if diff != 0:\n",
    "        color = bcolors.OKGREEN if diff > 0 else bcolors.FAIL\n",
    "        diff_str = \"{}{:+}{:6}\".format(color, diff, bcolors.ENDC) if show_diff else ''\n",
    "    print(f'{diff_str:4}{new_rank_dict[name]:<3}{name:27}{char_show[name]}')\n",
    "    if new_rank_dict[name] % 5 == 0:\n",
    "        print()"
   ]
  },
  {
   "cell_type": "code",
   "execution_count": 35,
   "metadata": {},
   "outputs": [
    {
     "data": {
      "text/plain": [
       "{'Kyoujurou Rengoku': 3,\n",
       " 'Tengen Uzui': 0,\n",
       " 'Muichiro Tokito': 6,\n",
       " 'Shinobu Kochou': 5,\n",
       " 'Mitsuri Kanroji': 8,\n",
       " 'Obanai Iguro': 7,\n",
       " 'Gyomei Himejima': 4,\n",
       " 'Giyuu Tomioka': 2,\n",
       " 'Sanemi Shinazugawa': 1}"
      ]
     },
     "execution_count": 35,
     "metadata": {},
     "output_type": "execute_result"
    }
   ],
   "source": [
    "points"
   ]
  },
  {
   "cell_type": "code",
   "execution_count": null,
   "metadata": {},
   "outputs": [],
   "source": []
  }
 ],
 "metadata": {
  "kernelspec": {
   "display_name": "Python 3 (ipykernel)",
   "language": "python",
   "name": "python3"
  },
  "language_info": {
   "codemirror_mode": {
    "name": "ipython",
    "version": 3
   },
   "file_extension": ".py",
   "mimetype": "text/x-python",
   "name": "python",
   "nbconvert_exporter": "python",
   "pygments_lexer": "ipython3",
   "version": "3.8.9"
  }
 },
 "nbformat": 4,
 "nbformat_minor": 4
}
