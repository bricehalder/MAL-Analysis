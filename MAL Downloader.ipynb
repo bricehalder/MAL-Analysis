{
 "cells": [
  {
   "cell_type": "markdown",
   "metadata": {},
   "source": [
    "This notebook is for downloading your own MAL data, with the overall rating of the show set to the one given in MAL. \n",
    "\n",
    "The rest of the values are by default 0 and need to be manually input."
   ]
  },
  {
   "cell_type": "markdown",
   "metadata": {},
   "source": [
    "### Loading\n"
   ]
  },
  {
   "cell_type": "code",
   "execution_count": 1,
   "metadata": {},
   "outputs": [],
   "source": [
    "from show import *\n",
    "from colors import color\n",
    "from operator import itemgetter, attrgetter"
   ]
  },
  {
   "cell_type": "code",
   "execution_count": 2,
   "metadata": {},
   "outputs": [],
   "source": [
    "import pickle\n",
    "completed = {}\n",
    "\n",
    "with open('./show_data/completed_shows.pkl', 'rb') as f:\n",
    "    completed = pickle.load(f)"
   ]
  },
  {
   "cell_type": "markdown",
   "metadata": {},
   "source": [
    "### Definitions"
   ]
  },
  {
   "cell_type": "code",
   "execution_count": 3,
   "metadata": {},
   "outputs": [],
   "source": [
    "def create_show():\n",
    "    name = input(\"Name of Show: \").strip()\n",
    "    plot = float(input(\"Story: \"))\n",
    "    characters = float(input(\"Characters: \"))\n",
    "    art = float(input(\"Art/Animation: \"))\n",
    "    music = float(input(\"Sound: \"))\n",
    "    enjoy = float(input(\"Personal Enjoyment: \"))\n",
    "    return Show(name, plot, characters, art, music, enjoy)"
   ]
  },
  {
   "cell_type": "code",
   "execution_count": 4,
   "metadata": {},
   "outputs": [],
   "source": [
    "def add_show(name, plot, characters, art, music, enjoy):\n",
    "#     completed[name] = Show(name, plot, characters, art, music, enjoy)\n",
    "    if Show(name) in completed:\n",
    "        completed.remove(Show(name))\n",
    "    completed.append(Show(name, plot, characters, art, music, enjoy))\n",
    "\n",
    "def add_default(name, default):\n",
    "    if Show(name) in completed:\n",
    "        completed.remove(Show(name))\n",
    "    completed.append(Show(name, default, default, default, default, default))\n",
    "    \n",
    "def update(name):\n",
    "    x = completed.pop(completed.index(Show(name)))\n",
    "    add_show(name, x.plot, x.characters, x.visuals, x.sound, x.enjoyment)"
   ]
  },
  {
   "cell_type": "markdown",
   "metadata": {},
   "source": [
    "### Make/Update Entries"
   ]
  },
  {
   "cell_type": "code",
   "execution_count": 5,
   "metadata": {},
   "outputs": [],
   "source": [
    "# x = create_show()\n",
    "# print('\\n' + str(x))\n",
    "\n",
    "# ans = input(\"\\nWant to add to list? (y/n): \")\n",
    "# if ans == \"yes\" or ans == \"y\":\n",
    "#     add_show(x.name, x.plot, x.characters, x.visuals, x.sound, x.enjoyment)"
   ]
  },
  {
   "cell_type": "code",
   "execution_count": 6,
   "metadata": {},
   "outputs": [
    {
     "data": {
      "text/plain": [
       "[Show<Fate/Zero 2nd Season>,\n",
       " Show<Hunter x Hunter (2011)>,\n",
       " Show<Tokyo Ghoul>,\n",
       " Show<Nisekoi>,\n",
       " Show<Shigatsu wa Kimi no Uso>,\n",
       " Show<Tokyo Ghoul √A>,\n",
       " Show<Sword Art Online>,\n",
       " Show<Boku no Hero Academia>,\n",
       " Show<Tengen Toppa Gurren Lagann>,\n",
       " Show<Fate/stay night: Unlimited Blade Works 2nd Season>,\n",
       " Show<Ao no Exorcist>,\n",
       " Show<Kono Subarashii Sekai ni Shukufuku wo!>,\n",
       " Show<Kill la Kill>,\n",
       " Show<Shingeki no Kyojin>,\n",
       " Show<Fate/stay night: Unlimited Blade Works>,\n",
       " Show<Seitokai Yakuindomo*>,\n",
       " Show<Shingeki no Kyojin Season 2>,\n",
       " Show<Kiznaiver>,\n",
       " Show<Fullmetal Alchemist: Brotherhood>,\n",
       " Show<Fate/Zero>,\n",
       " Show<Seitokai Yakuindomo>,\n",
       " Show<Saenai Heroine no Sodatekata>,\n",
       " Show<Kimi no Na wa.>,\n",
       " Show<Re:Zero kara Hajimeru Isekai Seikatsu>,\n",
       " Show<Death Note>,\n",
       " Show<Nisekoi:>,\n",
       " Show<Boku no Hero Academia 2nd Season>,\n",
       " Show<Shingeki no Bahamut: Genesis>,\n",
       " Show<One Punch Man>,\n",
       " Show<Koutetsujou no Kabaneri>,\n",
       " Show<Byousoku 5 Centimeter>,\n",
       " Show<Kara no Kyoukai 1: Fukan Fuukei>,\n",
       " Show<Tengen Toppa Gurren Lagann Movie 1: Gurren-hen>]"
      ]
     },
     "execution_count": 6,
     "metadata": {},
     "output_type": "execute_result"
    }
   ],
   "source": [
    "completed"
   ]
  },
  {
   "cell_type": "code",
   "execution_count": 7,
   "metadata": {},
   "outputs": [],
   "source": [
    "# add_show('Fullmetal Alchemist: Brotherhood', 10, 8.5, 8, 8.5, 7.5)\n",
    "# add_show('Hunter x Hunter (2011)', 10, 9.5, 7.5, 8, 8.5)\n",
    "# add_show('Fate/Zero 2nd Season', 9, 8.5, 10, 7.75, 8.75)\n",
    "# add_show('Tengen Toppa Gurren Lagann', 8.5, 8, 8, 8, 9.25)\n",
    "# add_show('Fate/Zero', 8, 8, 9.5, 7.75, 8)\n",
    "# add_show('Shingeki no Kyojin', 8.75, 7, 9, 10, 8.5)\n",
    "# add_show('Kill la Kill', 8.5, 8.25, 8.25, 8.75, 9)\n",
    "# add_show('Shigatsu wa Kimi no Uso', 8, 8, 8.75, 9.75, 8)\n",
    "# add_show('Boku no Hero Academia', 8.5, 8.5, 7, 8, 9.25)\n",
    "# add_show('Kimi no Na wa.', 8.5, 7, 10, 10, 8)\n",
    "# add_show('Fate/stay night: Unlimited Blade Works 2nd Season', 8, 8, 10, 9, 9)\n",
    "# add_show('Boku no Hero Academia 2nd Season', 9, 9, 8, 8, 10)\n",
    "# add_show('Tokyo Ghoul √A', 8, 8.5, 8, 8, 8)"
   ]
  },
  {
   "cell_type": "code",
   "execution_count": 8,
   "metadata": {},
   "outputs": [],
   "source": [
    "for x in completed:\n",
    "    update(x.name)"
   ]
  },
  {
   "cell_type": "markdown",
   "metadata": {},
   "source": [
    "### Saving"
   ]
  },
  {
   "cell_type": "code",
   "execution_count": 9,
   "metadata": {},
   "outputs": [],
   "source": [
    "with open('./show_data/completed_shows.pkl', 'wb') as f:\n",
    "    pickle.dump(completed, f)"
   ]
  },
  {
   "cell_type": "code",
   "execution_count": null,
   "metadata": {},
   "outputs": [],
   "source": []
  }
 ],
 "metadata": {
  "kernelspec": {
   "display_name": "Python 3",
   "language": "python",
   "name": "python3"
  },
  "language_info": {
   "codemirror_mode": {
    "name": "ipython",
    "version": 3
   },
   "file_extension": ".py",
   "mimetype": "text/x-python",
   "name": "python",
   "nbconvert_exporter": "python",
   "pygments_lexer": "ipython3",
   "version": "3.6.5"
  }
 },
 "nbformat": 4,
 "nbformat_minor": 2
}
